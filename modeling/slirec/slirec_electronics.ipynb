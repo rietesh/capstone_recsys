{
 "cells": [
  {
   "cell_type": "markdown",
   "metadata": {},
   "source": [
    "## Short-term and Long-term preference Integrated RECommender system. (SLi_Rec)\n",
    "\n",
    "### SLi_Rec : Adaptive User Modeling with Long and Short-Term Preferences for Personailzed Recommendation\n",
    "Unlike a general recommender such as Matrix Factorization or xDeepFM which doesn't consider the order of the user's activities, sequential recommender systems take the sequence of the user behaviors as context and the goal is to predict the items that the user will interact in a short time (in an extreme case, the item that the user will interact next).\n",
    "\n",
    "SLi_Rec \\[1\\] is a deep learning-based model aims at capturing both long and short-term user preferences for precise recommender systems. To summarize, SLi_Rec has the following key properties:\n",
    "\n",
    "* It adopts the attentive \"Asymmetric-SVD\" paradigm for long-term modeling;\n",
    "* It takes both time irregularity and semantic irregularity into consideration by modifying the gating logic in LSTM.\n",
    "* It uses an attention mechanism to dynamically fuse the long-term component and short-term component.\n",
    "\n",
    "In this notebook, we test SLi_Rec on a subset of the public dataset: [Amazon_reviews] which includes all categories related to Electronics."
   ]
  },
  {
   "cell_type": "code",
   "execution_count": 1,
   "metadata": {},
   "outputs": [],
   "source": [
    "import sys\n",
    "sys.path.append('/home/shiv/Documents/DataScience/Kaggle/recommenders/')"
   ]
  },
  {
   "cell_type": "code",
   "execution_count": 2,
   "metadata": {},
   "outputs": [
    {
     "name": "stdout",
     "output_type": "stream",
     "text": [
      "System version: 3.9.12 (main, Apr  5 2022, 06:56:58) \n",
      "[GCC 7.5.0]\n",
      "Tensorflow version: 2.8.0\n"
     ]
    }
   ],
   "source": [
    "import sys\n",
    "import os\n",
    "import logging\n",
    "import papermill as pm\n",
    "import scrapbook as sb\n",
    "from tempfile import TemporaryDirectory\n",
    "import numpy as np\n",
    "import tensorflow.compat.v1 as tf\n",
    "tf.get_logger().setLevel('ERROR') # only show error messages\n",
    "\n",
    "from recommenders.utils.timer import Timer\n",
    "from recommenders.utils.constants import SEED\n",
    "from recommenders.models.deeprec.deeprec_utils import (\n",
    "    prepare_hparams\n",
    ")\n",
    "\n",
    "from recommenders.models.deeprec.models.sequential.sli_rec import SLI_RECModel as SeqModel\n",
    "from recommenders.models.deeprec.io.sequential_iterator import SequentialIterator\n",
    "\n",
    "print(\"System version: {}\".format(sys.version))\n",
    "print(\"Tensorflow version: {}\".format(tf.__version__))\n"
   ]
  },
  {
   "cell_type": "markdown",
   "metadata": {},
   "source": [
    "#### Parameters"
   ]
  },
  {
   "cell_type": "code",
   "execution_count": 3,
   "metadata": {
    "tags": [
     "parameters"
    ]
   },
   "outputs": [],
   "source": [
    "EPOCHS = 15\n",
    "BATCH_SIZE = 400\n",
    "RANDOM_SEED = SEED  # Set None for non-deterministic result\n",
    "\n",
    "DATA_DIR_WIDE_DEEP = '/home/shiv/Documents/DataScience/Capstone/Data/wide_deep/' # for top k predictions\n",
    "yaml_file = '../../recommenders/models/deeprec/config/sli_rec.yaml'  \n",
    "data_path = '/home/shiv/Documents/DataScience/Capstone/Data/slirec/Electronics'"
   ]
  },
  {
   "cell_type": "markdown",
   "metadata": {},
   "source": [
    "### SLi-Rec\n",
    "The SLi_Rec model is <b>time-aware</b>.\n",
    "\n",
    "We use Softmax to the loss function. In training and evalution stage, we group 1 positive instance with `num_ngs` negative instances. Pair-wise ranking can be regarded as a special case of softmax ranking, where `num_ngs` is set to 1. \n",
    "\n",
    "More specifically, for training and evalation, we need to organize the data file such that each <b>one positive instance</b> is followed by <b>`num_ngs` negative instances</b>. \n",
    "\n",
    "The program will take `1+num_ngs` lines as a unit for Softmax calculation. `num_ngs` is a parameter you need to pass to the `prepare_hparams`, `fit` and `run_eval` function. `train_num_ngs` in `prepare_hparams` denotes the number of negative instances for training, where a recommended number is 4. `valid_num_ngs` and `num_ngs` in `fit` and `run_eval` denote the number in evalution. In evaluation, the model calculates metrics among the `1+num_ngs` instances. For the `predict` function, since we only need to calcuate a score for each individual instance, there is no need for `num_ngs` setting.\n",
    "\n",
    "For training stage, we don't have to prepare negative instances, we can just provide positive instances and set the parameter `need_sample=True, train_num_ngs=train_num_ngs` for function `prepare_hparams`, our model will dynamicly sample `train_num_ngs` instances as negative samples in each mini batch.\n",
    "\n",
    "###  Amazon dataset\n",
    "Now let's start with a public dataset containing product reviews and metadata from Amazon, which is widely used as a benchmark dataset in recommemdation systems field."
   ]
  },
  {
   "cell_type": "code",
   "execution_count": 4,
   "metadata": {},
   "outputs": [],
   "source": [
    "user_vocab = os.path.join(data_path, r'user_vocab.pkl')\n",
    "item_vocab = os.path.join(data_path, r'item_vocab.pkl')\n",
    "cate_vocab = os.path.join(data_path, r'category_vocab.pkl')"
   ]
  },
  {
   "cell_type": "code",
   "execution_count": 5,
   "metadata": {},
   "outputs": [],
   "source": [
    "train_file = os.path.join(data_path, r'train_data')\n",
    "valid_file = os.path.join(data_path, r'valid_data')\n",
    "test_file = os.path.join(data_path, r'test_data')"
   ]
  },
  {
   "cell_type": "markdown",
   "metadata": {},
   "source": [
    "#### Prepare hyper-parameters\n",
    "prepare_hparams() will create a full set of hyper-parameters for model training, such as learning rate, feature number, and dropout ratio. We can put those parameters in a yaml file (a complete list of parameters can be found under our config folder) , or pass parameters as the function's parameters (which will overwrite yaml settings).\n",
    "\n",
    "Parameters hints: <br>\n",
    "`need_sample` controls whether to perform dynamic negative sampling in mini-batch. \n",
    "`train_num_ngs` indicates how many negative instances followed by one positive instances.  <br>\n",
    "Examples: <br>\n",
    "(1) `need_sample=True and train_num_ngs=4`:  There are only positive instances in your training file. Our model will dynamically sample 4 negative instances for each positive instances in mini-batch. Note that if need_sample is set to True, train_num_ngs should be greater than zero. <br>\n",
    "(2) `need_sample=False and train_num_ngs=4`: In your training file, each one positive line is followed by 4 negative lines. Note that if need_sample is set to False, you must provide a traiing file with negative instances, and train_num_ngs should match the number of negative number in your training file."
   ]
  },
  {
   "cell_type": "markdown",
   "metadata": {},
   "source": [
    "#### Hyperparameters\n",
    "- learning_rate=0.001\n",
    "- dropout=0\n",
    "- item_embedding_dim=18\n",
    "- cate_embedding_dim=18\n",
    "- l2_norm=0.0001\n",
    "- hidden_size=36\n",
    "- attention_size=36\n",
    "- batch_size=400\n",
    "- train_num_ngs=4, valid_num_ngs=4, test_num_ngs=49"
   ]
  },
  {
   "cell_type": "code",
   "execution_count": 6,
   "metadata": {
    "scrolled": true
   },
   "outputs": [],
   "source": [
    "TRAIN_NUM_NEGS = 4\n",
    "VALID_NUM_NEGS = 4\n",
    "TEST_NUM_NEGS = 49\n",
    "hparams = prepare_hparams(yaml_file, \n",
    "                          embed_l2=0.0001, \n",
    "                          layer_l2=0.0001, \n",
    "                          learning_rate=0.001,  # set to 0.01 if batch normalization is disable\n",
    "                          epochs=EPOCHS,\n",
    "                          batch_size=BATCH_SIZE,\n",
    "                          dropout=[0,0],\n",
    "                          item_embedding_dim=18,\n",
    "                          cate_embedding_dim=18,\n",
    "                          user_embeddding_dim=18,\n",
    "                          max_seq_lenth=100,\n",
    "                          hidden_size=36,\n",
    "                          attention_size=36,\n",
    "                          show_step=1000,\n",
    "                          MODEL_DIR=os.path.join(data_path, \"model/\"),\n",
    "                          SUMMARIES_DIR=os.path.join(data_path, \"summary/\"),\n",
    "                          user_vocab=user_vocab,\n",
    "                          item_vocab=item_vocab,\n",
    "                          cate_vocab=cate_vocab,\n",
    "                          need_sample=True,\n",
    "                          train_num_ngs=TRAIN_NUM_NEGS, # provides the number of negative instances for each positive instance for loss computation.\n",
    "            )"
   ]
  },
  {
   "cell_type": "code",
   "execution_count": 7,
   "metadata": {},
   "outputs": [
    {
     "data": {
      "text/plain": [
       "HParams object with values {'use_entity': True, 'use_context': True, 'cross_activation': 'identity', 'user_dropout': True, 'dropout': [0, 0], 'attention_dropout': 0.0, 'load_saved_model': False, 'fast_CIN_d': 0, 'use_Linear_part': False, 'use_FM_part': False, 'use_CIN_part': False, 'use_DNN_part': False, 'init_method': 'tnormal', 'init_value': 0.01, 'embed_l2': 0.0001, 'embed_l1': 0.0, 'layer_l2': 0.0001, 'layer_l1': 0.0, 'cross_l2': 0.0, 'cross_l1': 0.0, 'reg_kg': 0.0, 'learning_rate': 0.001, 'lr_rs': 1, 'lr_kg': 0.5, 'kg_training_interval': 5, 'max_grad_norm': 2, 'is_clip_norm': 0, 'dtype': 32, 'optimizer': 'adam', 'epochs': 15, 'batch_size': 400, 'enable_BN': True, 'show_step': 1000, 'save_model': True, 'save_epoch': 1, 'write_tfevents': True, 'train_num_ngs': 4, 'need_sample': True, 'embedding_dropout': 0.0, 'EARLY_STOP': 10, 'min_seq_length': 1, 'slots': 5, 'cell': 'SUM', 'user_vocab': '/home/shiv/Documents/DataScience/Capstone/Data/slirec/Electronics/user_vocab.pkl', 'item_vocab': '/home/shiv/Documents/DataScience/Capstone/Data/slirec/Electronics/item_vocab.pkl', 'cate_vocab': '/home/shiv/Documents/DataScience/Capstone/Data/slirec/Electronics/category_vocab.pkl', 'method': 'classification', 'model_type': 'sli_rec', 'layer_sizes': [100, 64], 'att_fcn_layer_sizes': [80, 40], 'activation': ['relu', 'relu'], 'item_embedding_dim': 18, 'cate_embedding_dim': 18, 'user_embedding_dim': 16, 'loss': 'softmax', 'max_seq_length': 50, 'hidden_size': 36, 'attention_size': 36, 'metrics': ['auc', 'logloss'], 'pairwise_metrics': ['mean_mrr', 'ndcg@2;4;6', 'group_auc'], 'MODEL_DIR': '/home/shiv/Documents/DataScience/Capstone/Data/slirec/Electronics/model/', 'SUMMARIES_DIR': '/home/shiv/Documents/DataScience/Capstone/Data/slirec/Electronics/summary/', 'user_embeddding_dim': 18, 'max_seq_lenth': 100}"
      ]
     },
     "execution_count": 7,
     "metadata": {},
     "output_type": "execute_result"
    }
   ],
   "source": [
    "hparams"
   ]
  },
  {
   "cell_type": "markdown",
   "metadata": {},
   "source": [
    "#### Create data loader\n",
    "Designate a data iterator for the model. All our sequential models use SequentialIterator. \n",
    "\n",
    "Validation and testing data are files after negative sampling offline with the number of `<num_ngs>` and `<test_num_ngs>`."
   ]
  },
  {
   "cell_type": "code",
   "execution_count": 8,
   "metadata": {},
   "outputs": [],
   "source": [
    "input_creator = SequentialIterator"
   ]
  },
  {
   "cell_type": "markdown",
   "metadata": {},
   "source": [
    "## [Jump to Model Serving](#model_serving) if we already have a pre-built model!"
   ]
  },
  {
   "cell_type": "markdown",
   "metadata": {},
   "source": [
    "## Create model\n",
    "When both hyper-parameters and data iterator are ready, we can create a model:"
   ]
  },
  {
   "cell_type": "code",
   "execution_count": 9,
   "metadata": {
    "scrolled": true
   },
   "outputs": [
    {
     "name": "stderr",
     "output_type": "stream",
     "text": [
      "/home/shiv/Documents/DataScience/Kaggle/recommenders/recommenders/models/deeprec/models/base_model.py:701: UserWarning: `tf.layers.batch_normalization` is deprecated and will be removed in a future version. Please use `tf.keras.layers.BatchNormalization` instead. In particular, `tf.control_dependencies(tf.GraphKeys.UPDATE_OPS)` should not be used (consult the `tf.keras.layers.BatchNormalization` documentation).\n",
      "  curr_hidden_nn_layer = tf.compat.v1.layers.batch_normalization(\n",
      "/home/shiv/anaconda3/envs/RecSys_39/lib/python3.9/site-packages/keras/legacy_tf_layers/normalization.py:463: UserWarning: `layer.apply` is deprecated and will be removed in a future version. Please use `layer.__call__` method instead.\n",
      "  return layer.apply(inputs, training=training)\n",
      "2022-08-14 09:16:48.930399: I tensorflow/core/platform/cpu_feature_guard.cc:151] This TensorFlow binary is optimized with oneAPI Deep Neural Network Library (oneDNN) to use the following CPU instructions in performance-critical operations:  AVX2 FMA\n",
      "To enable them in other operations, rebuild TensorFlow with the appropriate compiler flags.\n",
      "2022-08-14 09:16:49.472171: I tensorflow/core/common_runtime/gpu/gpu_device.cc:1525] Created device /job:localhost/replica:0/task:0/device:GPU:0 with 5552 MB memory:  -> device: 0, name: NVIDIA GeForce RTX 3070, pci bus id: 0000:01:00.0, compute capability: 8.6\n",
      "2022-08-14 09:16:49.472680: I tensorflow/core/common_runtime/gpu/gpu_device.cc:1525] Created device /job:localhost/replica:0/task:0/device:GPU:1 with 6114 MB memory:  -> device: 1, name: NVIDIA GeForce RTX 3070, pci bus id: 0000:04:00.0, compute capability: 8.6\n"
     ]
    }
   ],
   "source": [
    "model = SeqModel(hparams, input_creator, seed=RANDOM_SEED)\n",
    "\n",
    "## sometimes we don't want to train a model from scratch\n",
    "## then we can load a pre-trained model like this: \n",
    "#model.load_model(r'your_model_path')"
   ]
  },
  {
   "cell_type": "markdown",
   "metadata": {},
   "source": [
    "Now let's see what is the model's performance at this point (without starting training):"
   ]
  },
  {
   "cell_type": "code",
   "execution_count": null,
   "metadata": {},
   "outputs": [],
   "source": [
    "# test_num_ngs is the number of negative lines after each positive line in your test_file\n",
    "print(model.run_eval(test_file, num_ngs=TEST_NUM_NEGS))\n",
    "\n",
    "# {'auc': 0.5046, 'logloss': 0.6931, 'mean_mrr': 0.0943, 'ndcg@2': 0.0377, 'ndcg@4': 0.0571, 'ndcg@6': 0.0715, 'group_auc': 0.5048}"
   ]
  },
  {
   "cell_type": "markdown",
   "metadata": {},
   "source": [
    "AUC=0.5 is a state of random guess. We can see that before training, the model behaves like random guessing.\n",
    "\n",
    "#### Train model\n",
    "Next we want to train the model on a training set, and check the performance on a validation dataset."
   ]
  },
  {
   "cell_type": "code",
   "execution_count": 10,
   "metadata": {
    "scrolled": true
   },
   "outputs": [
    {
     "name": "stderr",
     "output_type": "stream",
     "text": [
      "2022-08-14 09:18:01.332039: I tensorflow/stream_executor/cuda/cuda_blas.cc:1786] TensorFloat-32 will be used for the matrix multiplication. This will only be logged once.\n"
     ]
    },
    {
     "name": "stdout",
     "output_type": "stream",
     "text": [
      "step 1000 , total_loss: 1.3006, data_loss: 1.2821\n",
      "step 2000 , total_loss: 1.2379, data_loss: 1.2149\n",
      "step 3000 , total_loss: 1.2069, data_loss: 1.1796\n",
      "step 4000 , total_loss: 1.0680, data_loss: 1.0373\n",
      "step 5000 , total_loss: 1.0914, data_loss: 1.0576\n",
      "step 6000 , total_loss: 0.9810, data_loss: 0.9440\n",
      "step 7000 , total_loss: 1.0427, data_loss: 1.0037\n",
      "step 8000 , total_loss: 0.9869, data_loss: 0.9446\n",
      "eval valid at epoch 1: auc:0.7874,logloss:0.5678,mean_mrr:0.7236,ndcg@2:0.6876,ndcg@4:0.7809,ndcg@6:0.7932,group_auc:0.7956\n",
      "step 1000 , total_loss: 0.9192, data_loss: 0.8700\n",
      "step 2000 , total_loss: 0.9827, data_loss: 0.9339\n",
      "step 3000 , total_loss: 1.0474, data_loss: 0.9979\n",
      "step 4000 , total_loss: 1.0496, data_loss: 1.0016\n",
      "step 5000 , total_loss: 0.9129, data_loss: 0.8600\n",
      "step 6000 , total_loss: 1.0687, data_loss: 1.0169\n",
      "step 7000 , total_loss: 0.9965, data_loss: 0.9373\n",
      "step 8000 , total_loss: 1.0081, data_loss: 0.9487\n",
      "eval valid at epoch 2: auc:0.8022,logloss:0.531,mean_mrr:0.7386,ndcg@2:0.7063,ndcg@4:0.7935,ndcg@6:0.8045,group_auc:0.8085\n",
      "step 1000 , total_loss: 0.9765, data_loss: 0.9142\n",
      "step 2000 , total_loss: 1.0500, data_loss: 0.9907\n",
      "step 3000 , total_loss: 1.0345, data_loss: 0.9727\n",
      "step 4000 , total_loss: 0.8918, data_loss: 0.8252\n",
      "step 5000 , total_loss: 0.9329, data_loss: 0.8693\n",
      "step 6000 , total_loss: 0.9578, data_loss: 0.8931\n",
      "step 7000 , total_loss: 0.9055, data_loss: 0.8381\n",
      "step 8000 , total_loss: 0.9558, data_loss: 0.8899\n",
      "eval valid at epoch 3: auc:0.8083,logloss:0.5307,mean_mrr:0.7455,ndcg@2:0.7148,ndcg@4:0.7993,ndcg@6:0.8097,group_auc:0.8142\n",
      "step 1000 , total_loss: 0.9125, data_loss: 0.8432\n",
      "step 2000 , total_loss: 0.9639, data_loss: 0.8911\n",
      "step 3000 , total_loss: 0.9575, data_loss: 0.8872\n",
      "step 4000 , total_loss: 0.9908, data_loss: 0.9149\n",
      "step 5000 , total_loss: 0.9618, data_loss: 0.8922\n",
      "step 6000 , total_loss: 0.9008, data_loss: 0.8267\n",
      "step 7000 , total_loss: 0.9471, data_loss: 0.8732\n",
      "step 8000 , total_loss: 0.9374, data_loss: 0.8588\n",
      "eval valid at epoch 4: auc:0.8107,logloss:0.5226,mean_mrr:0.7483,ndcg@2:0.7185,ndcg@4:0.8017,ndcg@6:0.8118,group_auc:0.8169\n",
      "step 1000 , total_loss: 0.8307, data_loss: 0.7542\n",
      "step 2000 , total_loss: 0.9198, data_loss: 0.8386\n",
      "step 3000 , total_loss: 0.8896, data_loss: 0.8099\n",
      "step 4000 , total_loss: 0.9203, data_loss: 0.8423\n",
      "step 5000 , total_loss: 1.0201, data_loss: 0.9390\n",
      "step 6000 , total_loss: 0.9375, data_loss: 0.8569\n",
      "step 7000 , total_loss: 1.0111, data_loss: 0.9319\n",
      "step 8000 , total_loss: 0.9031, data_loss: 0.8202\n",
      "eval valid at epoch 5: auc:0.8158,logloss:0.507,mean_mrr:0.75,ndcg@2:0.7208,ndcg@4:0.8032,ndcg@6:0.8131,group_auc:0.8184\n",
      "step 1000 , total_loss: 0.8849, data_loss: 0.8033\n",
      "step 2000 , total_loss: 0.9563, data_loss: 0.8654\n",
      "step 3000 , total_loss: 0.9745, data_loss: 0.8886\n",
      "step 4000 , total_loss: 0.9567, data_loss: 0.8717\n",
      "step 5000 , total_loss: 0.9855, data_loss: 0.8970\n",
      "step 6000 , total_loss: 0.9621, data_loss: 0.8769\n",
      "step 7000 , total_loss: 0.9917, data_loss: 0.9059\n",
      "step 8000 , total_loss: 0.9180, data_loss: 0.8386\n",
      "eval valid at epoch 6: auc:0.809,logloss:0.5035,mean_mrr:0.7477,ndcg@2:0.7174,ndcg@4:0.8007,ndcg@6:0.8113,group_auc:0.8156\n",
      "step 1000 , total_loss: 0.9220, data_loss: 0.8392\n",
      "step 2000 , total_loss: 0.8747, data_loss: 0.7919\n",
      "step 3000 , total_loss: 0.9766, data_loss: 0.8901\n",
      "step 4000 , total_loss: 0.9771, data_loss: 0.8894\n",
      "step 5000 , total_loss: 0.9323, data_loss: 0.8499\n",
      "step 6000 , total_loss: 0.9132, data_loss: 0.8269\n",
      "step 7000 , total_loss: 0.9565, data_loss: 0.8692\n",
      "step 8000 , total_loss: 0.8369, data_loss: 0.7504\n",
      "eval valid at epoch 7: auc:0.8144,logloss:0.5068,mean_mrr:0.7514,ndcg@2:0.7222,ndcg@4:0.804,ndcg@6:0.8141,group_auc:0.819\n",
      "step 1000 , total_loss: 0.9012, data_loss: 0.8131\n",
      "step 2000 , total_loss: 0.9703, data_loss: 0.8761\n",
      "step 3000 , total_loss: 0.8774, data_loss: 0.7847\n",
      "step 4000 , total_loss: 0.9247, data_loss: 0.8382\n",
      "step 5000 , total_loss: 0.9157, data_loss: 0.8300\n",
      "step 6000 , total_loss: 0.9374, data_loss: 0.8499\n",
      "step 7000 , total_loss: 0.9676, data_loss: 0.8774\n",
      "step 8000 , total_loss: 0.8647, data_loss: 0.7809\n",
      "eval valid at epoch 8: auc:0.8148,logloss:0.496,mean_mrr:0.7528,ndcg@2:0.7239,ndcg@4:0.8051,ndcg@6:0.8152,group_auc:0.8202\n",
      "step 1000 , total_loss: 0.9126, data_loss: 0.8206\n",
      "step 2000 , total_loss: 0.9413, data_loss: 0.8499\n",
      "step 3000 , total_loss: 0.8667, data_loss: 0.7739\n",
      "step 4000 , total_loss: 0.9630, data_loss: 0.8745\n",
      "step 5000 , total_loss: 0.8836, data_loss: 0.7909\n",
      "step 6000 , total_loss: 0.8974, data_loss: 0.8015\n",
      "step 7000 , total_loss: 0.8579, data_loss: 0.7650\n",
      "step 8000 , total_loss: 0.9420, data_loss: 0.8489\n",
      "eval valid at epoch 9: auc:0.8175,logloss:0.5014,mean_mrr:0.7533,ndcg@2:0.7246,ndcg@4:0.8054,ndcg@6:0.8155,group_auc:0.8204\n",
      "step 1000 , total_loss: 0.8275, data_loss: 0.7395\n",
      "step 2000 , total_loss: 0.8783, data_loss: 0.7836\n",
      "step 3000 , total_loss: 0.9088, data_loss: 0.8167\n",
      "step 4000 , total_loss: 0.9231, data_loss: 0.8301\n",
      "step 5000 , total_loss: 0.8570, data_loss: 0.7634\n",
      "step 6000 , total_loss: 0.9816, data_loss: 0.8897\n",
      "step 7000 , total_loss: 0.9786, data_loss: 0.8861\n",
      "step 8000 , total_loss: 0.8566, data_loss: 0.7639\n",
      "eval valid at epoch 10: auc:0.8126,logloss:0.4941,mean_mrr:0.7513,ndcg@2:0.7219,ndcg@4:0.8038,ndcg@6:0.814,group_auc:0.8187\n",
      "step 1000 , total_loss: 0.8881, data_loss: 0.7940\n",
      "step 2000 , total_loss: 0.9202, data_loss: 0.8261\n",
      "step 3000 , total_loss: 0.8432, data_loss: 0.7499\n",
      "step 4000 , total_loss: 0.8722, data_loss: 0.7856\n",
      "step 5000 , total_loss: 0.9630, data_loss: 0.8715\n",
      "step 6000 , total_loss: 0.9312, data_loss: 0.8360\n",
      "step 7000 , total_loss: 0.9009, data_loss: 0.8139\n",
      "step 8000 , total_loss: 0.9019, data_loss: 0.8129\n",
      "eval valid at epoch 11: auc:0.8148,logloss:0.4802,mean_mrr:0.752,ndcg@2:0.7226,ndcg@4:0.8041,ndcg@6:0.8145,group_auc:0.8189\n",
      "step 1000 , total_loss: 0.8445, data_loss: 0.7486\n",
      "step 2000 , total_loss: 0.8612, data_loss: 0.7677\n",
      "step 3000 , total_loss: 0.9443, data_loss: 0.8470\n",
      "step 4000 , total_loss: 0.9542, data_loss: 0.8551\n",
      "step 5000 , total_loss: 0.8530, data_loss: 0.7610\n",
      "step 6000 , total_loss: 0.8917, data_loss: 0.7981\n",
      "step 7000 , total_loss: 0.9886, data_loss: 0.8956\n",
      "step 8000 , total_loss: 0.9419, data_loss: 0.8489\n",
      "eval valid at epoch 12: auc:0.8163,logloss:0.4933,mean_mrr:0.7538,ndcg@2:0.7251,ndcg@4:0.8061,ndcg@6:0.8159,group_auc:0.8212\n",
      "step 1000 , total_loss: 0.8329, data_loss: 0.7423\n",
      "step 2000 , total_loss: 0.8611, data_loss: 0.7679\n",
      "step 3000 , total_loss: 0.8951, data_loss: 0.7891\n",
      "step 4000 , total_loss: 0.9030, data_loss: 0.8067\n",
      "step 5000 , total_loss: 0.8906, data_loss: 0.7953\n",
      "step 6000 , total_loss: 0.9313, data_loss: 0.8411\n",
      "step 7000 , total_loss: 0.8282, data_loss: 0.7317\n",
      "step 8000 , total_loss: 0.9254, data_loss: 0.8277\n",
      "eval valid at epoch 13: auc:0.8135,logloss:0.5238,mean_mrr:0.7517,ndcg@2:0.7223,ndcg@4:0.804,ndcg@6:0.8143,group_auc:0.8188\n",
      "step 1000 , total_loss: 0.8974, data_loss: 0.8024\n",
      "step 2000 , total_loss: 0.9280, data_loss: 0.8321\n",
      "step 3000 , total_loss: 0.8458, data_loss: 0.7474\n",
      "step 4000 , total_loss: 0.9032, data_loss: 0.8043\n",
      "step 5000 , total_loss: 0.9199, data_loss: 0.8230\n",
      "step 6000 , total_loss: 0.9363, data_loss: 0.8331\n",
      "step 7000 , total_loss: 0.9393, data_loss: 0.8443\n",
      "step 8000 , total_loss: 0.8716, data_loss: 0.7785\n",
      "eval valid at epoch 14: auc:0.8134,logloss:0.4921,mean_mrr:0.75,ndcg@2:0.7201,ndcg@4:0.8023,ndcg@6:0.813,group_auc:0.817\n",
      "step 1000 , total_loss: 0.9207, data_loss: 0.8269\n",
      "step 2000 , total_loss: 0.9290, data_loss: 0.8336\n",
      "step 3000 , total_loss: 0.8710, data_loss: 0.7716\n",
      "step 4000 , total_loss: 1.0036, data_loss: 0.9101\n",
      "step 5000 , total_loss: 0.9050, data_loss: 0.8067\n",
      "step 6000 , total_loss: 0.9280, data_loss: 0.8304\n",
      "step 7000 , total_loss: 1.0057, data_loss: 0.9094\n",
      "step 8000 , total_loss: 0.9231, data_loss: 0.8277\n",
      "eval valid at epoch 15: auc:0.8182,logloss:0.4957,mean_mrr:0.7529,ndcg@2:0.7241,ndcg@4:0.805,ndcg@6:0.8152,group_auc:0.82\n",
      "[(1, {'auc': 0.7874, 'logloss': 0.5678, 'mean_mrr': 0.7236, 'ndcg@2': 0.6876, 'ndcg@4': 0.7809, 'ndcg@6': 0.7932, 'group_auc': 0.7956}), (2, {'auc': 0.8022, 'logloss': 0.531, 'mean_mrr': 0.7386, 'ndcg@2': 0.7063, 'ndcg@4': 0.7935, 'ndcg@6': 0.8045, 'group_auc': 0.8085}), (3, {'auc': 0.8083, 'logloss': 0.5307, 'mean_mrr': 0.7455, 'ndcg@2': 0.7148, 'ndcg@4': 0.7993, 'ndcg@6': 0.8097, 'group_auc': 0.8142}), (4, {'auc': 0.8107, 'logloss': 0.5226, 'mean_mrr': 0.7483, 'ndcg@2': 0.7185, 'ndcg@4': 0.8017, 'ndcg@6': 0.8118, 'group_auc': 0.8169}), (5, {'auc': 0.8158, 'logloss': 0.507, 'mean_mrr': 0.75, 'ndcg@2': 0.7208, 'ndcg@4': 0.8032, 'ndcg@6': 0.8131, 'group_auc': 0.8184}), (6, {'auc': 0.809, 'logloss': 0.5035, 'mean_mrr': 0.7477, 'ndcg@2': 0.7174, 'ndcg@4': 0.8007, 'ndcg@6': 0.8113, 'group_auc': 0.8156}), (7, {'auc': 0.8144, 'logloss': 0.5068, 'mean_mrr': 0.7514, 'ndcg@2': 0.7222, 'ndcg@4': 0.804, 'ndcg@6': 0.8141, 'group_auc': 0.819}), (8, {'auc': 0.8148, 'logloss': 0.496, 'mean_mrr': 0.7528, 'ndcg@2': 0.7239, 'ndcg@4': 0.8051, 'ndcg@6': 0.8152, 'group_auc': 0.8202}), (9, {'auc': 0.8175, 'logloss': 0.5014, 'mean_mrr': 0.7533, 'ndcg@2': 0.7246, 'ndcg@4': 0.8054, 'ndcg@6': 0.8155, 'group_auc': 0.8204}), (10, {'auc': 0.8126, 'logloss': 0.4941, 'mean_mrr': 0.7513, 'ndcg@2': 0.7219, 'ndcg@4': 0.8038, 'ndcg@6': 0.814, 'group_auc': 0.8187}), (11, {'auc': 0.8148, 'logloss': 0.4802, 'mean_mrr': 0.752, 'ndcg@2': 0.7226, 'ndcg@4': 0.8041, 'ndcg@6': 0.8145, 'group_auc': 0.8189}), (12, {'auc': 0.8163, 'logloss': 0.4933, 'mean_mrr': 0.7538, 'ndcg@2': 0.7251, 'ndcg@4': 0.8061, 'ndcg@6': 0.8159, 'group_auc': 0.8212}), (13, {'auc': 0.8135, 'logloss': 0.5238, 'mean_mrr': 0.7517, 'ndcg@2': 0.7223, 'ndcg@4': 0.804, 'ndcg@6': 0.8143, 'group_auc': 0.8188}), (14, {'auc': 0.8134, 'logloss': 0.4921, 'mean_mrr': 0.75, 'ndcg@2': 0.7201, 'ndcg@4': 0.8023, 'ndcg@6': 0.813, 'group_auc': 0.817}), (15, {'auc': 0.8182, 'logloss': 0.4957, 'mean_mrr': 0.7529, 'ndcg@2': 0.7241, 'ndcg@4': 0.805, 'ndcg@6': 0.8152, 'group_auc': 0.82})]\n",
      "best epoch: 12\n",
      "Time cost for training is 360.31 mins\n"
     ]
    }
   ],
   "source": [
    "with Timer() as train_time:\n",
    "    model = model.fit(train_file, valid_file, valid_num_ngs=VALID_NUM_NEGS) \n",
    "\n",
    "# valid_num_ngs is the number of negative lines after each positive line in your valid_file \n",
    "# we will evaluate the performance of model on valid_file every epoch\n",
    "print('Time cost for training is {0:.2f} mins'.format(train_time.interval/60.0))"
   ]
  },
  {
   "cell_type": "markdown",
   "metadata": {},
   "source": [
    "#### Plot the train, validation log loss, validation AUC, NDCG@6"
   ]
  },
  {
   "cell_type": "code",
   "execution_count": 12,
   "metadata": {},
   "outputs": [],
   "source": [
    "# scan the log above to get the mean of data_loss, valid_loss, validation AUC, NDCG@6\n",
    "train_loss = [1.083, 0.9458, 0.8992, 0.8734, 0.8491, 0.8684, 0.8384, 0.8313, 0.8156, 0.8091, \n",
    "              0.8112, 0.8153, 0.7877, 0.8081, 0.8395]\n",
    "valid_loss = [0.5678, 0.531, 0.5307, 0.5226, 0.507,  0.5035, 0.5068, 0.496,  0.5014, 0.4941, \n",
    "              0.4802, 0.4933, 0.5238, 0.4921, 0.4957]\n",
    "auc =  [0.7874, 0.8022, 0.8083, 0.8107, 0.8158, 0.809, 0.8144, 0.8148, 0.8175, 0.8126, \n",
    "        0.8148, 0.8163, 0.8135, 0.8134, 0.8182]\n",
    "ndcg6 = [0.7932, 0.8045, 0.8097, 0.8118, 0.8131, 0.8113, 0.8141, 0.8152, 0.8155, 0.814, \n",
    "         0.8145, 0.8159, 0.8143, 0.813, 0.8152]"
   ]
  },
  {
   "cell_type": "code",
   "execution_count": 13,
   "metadata": {},
   "outputs": [
    {
     "data": {
      "image/png": "[encoded data removed]",
      "text/plain": [
       "<Figure size 432x288 with 1 Axes>"
      ]
     },
     "metadata": {
      "needs_background": "light"
     },
     "output_type": "display_data"
    }
   ],
   "source": [
    "import matplotlib.pyplot as plt\n",
    "\n",
    "x = range(1,len(train_loss)+1)\n",
    "\n",
    "plt.plot(x, train_loss, label='train', lw=1)\n",
    "plt.plot(x, valid_loss, label='valid', lw=1)\n",
    "plt.xlabel('epochs')\n",
    "plt.ylabel('logloss')\n",
    "plt.legend(loc='upper right')\n",
    "plt.savefig(data_path + '/sli_train_valid_logloss.png', facecolor='white')"
   ]
  },
  {
   "cell_type": "code",
   "execution_count": 14,
   "metadata": {},
   "outputs": [
    {
     "data": {
      "image/png": "[encoded data removed]",
      "text/plain": [
       "<Figure size 432x288 with 1 Axes>"
      ]
     },
     "metadata": {
      "needs_background": "light"
     },
     "output_type": "display_data"
    }
   ],
   "source": [
    "plt.plot(x, auc, label='AUC', lw=1)\n",
    "plt.plot(x, ndcg6, label='NDCG@6', lw=1)\n",
    "plt.xlabel('epochs')\n",
    "plt.ylabel('Validation AUC, NDCG@6')\n",
    "plt.legend(loc='lower right')\n",
    "plt.savefig(data_path + '/sli_valid_auc_ndcg6.png', facecolor='white')"
   ]
  },
  {
   "cell_type": "markdown",
   "metadata": {},
   "source": [
    "#### Evaluate model\n",
    "\n",
    "Again, let's see what is the model's performance now (after training):"
   ]
  },
  {
   "cell_type": "code",
   "execution_count": 11,
   "metadata": {},
   "outputs": [
    {
     "name": "stdout",
     "output_type": "stream",
     "text": [
      "{'auc': 0.8174, 'logloss': 0.476, 'mean_mrr': 0.3417, 'ndcg@2': 0.2629, 'ndcg@4': 0.3257, 'ndcg@6': 0.3611, 'group_auc': 0.8188}\n"
     ]
    }
   ],
   "source": [
    "res_syn = model.run_eval(test_file, num_ngs=TEST_NUM_NEGS)\n",
    "print(res_syn)"
   ]
  },
  {
   "cell_type": "code",
   "execution_count": null,
   "metadata": {},
   "outputs": [],
   "source": [
    "sb.glue(\"res_syn\", res_syn)"
   ]
  },
  {
   "cell_type": "markdown",
   "metadata": {},
   "source": [
    "If we want to get the full prediction scores rather than evaluation metrics, we can do this:"
   ]
  },
  {
   "cell_type": "code",
   "execution_count": 15,
   "metadata": {},
   "outputs": [],
   "source": [
    "# output_file = os.path.join(data_path, r'output.txt')\n",
    "# model = model.predict(test_file, output_file)"
   ]
  },
  {
   "cell_type": "markdown",
   "metadata": {},
   "source": [
    "<a id=\"model_serving\"></a>\n",
    "## Model Serving"
   ]
  },
  {
   "cell_type": "code",
   "execution_count": 9,
   "metadata": {},
   "outputs": [
    {
     "name": "stderr",
     "output_type": "stream",
     "text": [
      "/home/shiv/Documents/DataScience/Kaggle/recommenders/recommenders/models/deeprec/models/base_model.py:701: UserWarning: `tf.layers.batch_normalization` is deprecated and will be removed in a future version. Please use `tf.keras.layers.BatchNormalization` instead. In particular, `tf.control_dependencies(tf.GraphKeys.UPDATE_OPS)` should not be used (consult the `tf.keras.layers.BatchNormalization` documentation).\n",
      "  curr_hidden_nn_layer = tf.compat.v1.layers.batch_normalization(\n",
      "/home/shiv/anaconda3/envs/RecSys_39/lib/python3.9/site-packages/keras/legacy_tf_layers/normalization.py:463: UserWarning: `layer.apply` is deprecated and will be removed in a future version. Please use `layer.__call__` method instead.\n",
      "  return layer.apply(inputs, training=training)\n",
      "2022-08-14 16:16:13.754352: I tensorflow/core/platform/cpu_feature_guard.cc:151] This TensorFlow binary is optimized with oneAPI Deep Neural Network Library (oneDNN) to use the following CPU instructions in performance-critical operations:  AVX2 FMA\n",
      "To enable them in other operations, rebuild TensorFlow with the appropriate compiler flags.\n",
      "2022-08-14 16:16:14.713547: I tensorflow/core/common_runtime/gpu/gpu_device.cc:1525] Created device /job:localhost/replica:0/task:0/device:GPU:0 with 5570 MB memory:  -> device: 0, name: NVIDIA GeForce RTX 3070, pci bus id: 0000:01:00.0, compute capability: 8.6\n",
      "2022-08-14 16:16:14.714756: I tensorflow/core/common_runtime/gpu/gpu_device.cc:1525] Created device /job:localhost/replica:0/task:0/device:GPU:1 with 5799 MB memory:  -> device: 1, name: NVIDIA GeForce RTX 3070, pci bus id: 0000:04:00.0, compute capability: 8.6\n"
     ]
    },
    {
     "name": "stdout",
     "output_type": "stream",
     "text": [
      "loading saved model in /home/shiv/Documents/DataScience/Capstone/Data/slirec/Electronics/model/best_model\n"
     ]
    }
   ],
   "source": [
    "model_best_trained = SeqModel(hparams, input_creator, seed=RANDOM_SEED)\n",
    "path_best_trained = os.path.join(hparams.MODEL_DIR, \"best_model\")\n",
    "\n",
    "print('loading saved model in {0}'.format(path_best_trained))\n",
    "model_best_trained.load_model(path_best_trained)"
   ]
  },
  {
   "cell_type": "markdown",
   "metadata": {},
   "source": [
    "Let's see if we load the model correctly by running evaluation on a test file. The testing metrics should be better than what we had at the end of training where we did not load the best model. You can also [jump to predicting topK for a user](#topK)."
   ]
  },
  {
   "cell_type": "code",
   "execution_count": 10,
   "metadata": {},
   "outputs": [
    {
     "name": "stderr",
     "output_type": "stream",
     "text": [
      "2022-08-14 16:22:48.526620: I tensorflow/stream_executor/cuda/cuda_blas.cc:1786] TensorFloat-32 will be used for the matrix multiplication. This will only be logged once.\n"
     ]
    },
    {
     "data": {
      "text/plain": [
       "{'auc': 0.8179,\n",
       " 'logloss': 0.4593,\n",
       " 'mean_mrr': 0.342,\n",
       " 'ndcg@2': 0.2627,\n",
       " 'ndcg@4': 0.3259,\n",
       " 'ndcg@6': 0.3617,\n",
       " 'group_auc': 0.8218}"
      ]
     },
     "execution_count": 10,
     "metadata": {},
     "output_type": "execute_result"
    }
   ],
   "source": [
    "model_best_trained.run_eval(test_file, num_ngs=TEST_NUM_NEGS)"
   ]
  },
  {
   "cell_type": "markdown",
   "metadata": {},
   "source": [
    "And we can make predictions using the best model. Then we can check if the metrics from run_eval match with those received from predict function which only outputs prediction scores."
   ]
  },
  {
   "cell_type": "code",
   "execution_count": 11,
   "metadata": {},
   "outputs": [
    {
     "data": {
      "text/plain": [
       "<recommenders.models.deeprec.models.sequential.sli_rec.SLI_RECModel at 0x7f3f5c0033d0>"
      ]
     },
     "execution_count": 11,
     "metadata": {},
     "output_type": "execute_result"
    }
   ],
   "source": [
    "output_file = os.path.join(data_path, r'output.txt')\n",
    "model_best_trained.predict(test_file, output_file)"
   ]
  },
  {
   "cell_type": "markdown",
   "metadata": {},
   "source": [
    "#### Check for consistent results"
   ]
  },
  {
   "cell_type": "code",
   "execution_count": 12,
   "metadata": {},
   "outputs": [
    {
     "name": "stdout",
     "output_type": "stream",
     "text": [
      "0.8179223847172219 0.459284295358903\n"
     ]
    }
   ],
   "source": [
    "from sklearn.metrics import (roc_auc_score, log_loss)\n",
    "\n",
    "# Gather the true labels\n",
    "true_labels = []\n",
    "with open(test_file, 'r') as f:\n",
    "    for line in f:\n",
    "        parts = line.split('\\t')\n",
    "        true_labels.append(float(parts[0]))\n",
    "# Gather the predictions\n",
    "preds = []\n",
    "with open(output_file, 'r') as f:\n",
    "    for line in f:\n",
    "        preds.append(float(line))\n",
    "print(roc_auc_score(true_labels, preds), log_loss(true_labels, preds))\n",
    "# The ROC auc and logloss match!"
   ]
  },
  {
   "cell_type": "code",
   "execution_count": 13,
   "metadata": {},
   "outputs": [
    {
     "data": {
      "text/plain": [
       "{'mean_mrr': 0.342,\n",
       " 'ndcg@2': 0.2627,\n",
       " 'ndcg@4': 0.3259,\n",
       " 'ndcg@6': 0.3617,\n",
       " 'ndcg@10': 0.4039,\n",
       " 'group_auc': 0.8218}"
      ]
     },
     "execution_count": 13,
     "metadata": {},
     "output_type": "execute_result"
    }
   ],
   "source": [
    "from recommenders.models.deeprec.deeprec_utils import cal_metric\n",
    "\n",
    "# Pairwise metrics\n",
    "group = TEST_NUM_NEGS + 1\n",
    "\n",
    "group_labels = np.reshape(true_labels, (-1, group))\n",
    "group_preds = np.reshape(preds, (-1, group))\n",
    "\n",
    "cal_metric(group_labels, group_preds, ['mean_mrr', 'ndcg@2;4;6;10', 'group_auc'])\n",
    "# And the pairwise metrics match too! We have ndcg@10 too!"
   ]
  },
  {
   "cell_type": "code",
   "execution_count": 15,
   "metadata": {},
   "outputs": [
    {
     "data": {
      "text/plain": [
       "{'hit@10': 0.6654}"
      ]
     },
     "execution_count": 15,
     "metadata": {},
     "output_type": "execute_result"
    }
   ],
   "source": [
    "cal_metric(group_labels, group_preds, ['hit@10'])"
   ]
  },
  {
   "cell_type": "markdown",
   "metadata": {},
   "source": [
    "<a id=\"topK\"></a>\n",
    "### TopK prediction for a user"
   ]
  },
  {
   "cell_type": "code",
   "execution_count": 16,
   "metadata": {},
   "outputs": [],
   "source": [
    "import _pickle as cPickle\n",
    "\n",
    "with open(user_vocab, 'rb') as f:\n",
    "    u_v = cPickle.load(f)\n",
    "with open(item_vocab, 'rb') as f:\n",
    "    v_v = cPickle.load(f)   "
   ]
  },
  {
   "cell_type": "code",
   "execution_count": 17,
   "metadata": {},
   "outputs": [
    {
     "data": {
      "text/plain": [
       "(497252, 63715)"
      ]
     },
     "execution_count": 17,
     "metadata": {},
     "output_type": "execute_result"
    }
   ],
   "source": [
    "len(u_v), len(v_v) # only 497252 users in train (out of 830668), and 63715 items (out of 63725)"
   ]
  },
  {
   "cell_type": "code",
   "execution_count": 18,
   "metadata": {},
   "outputs": [
    {
     "data": {
      "text/plain": [
       "userID        \n",
       "ANGGNFE8DXGYC     324\n",
       "ARBKYIVNYWK3C     243\n",
       "A1H2WJSALF3E9U    238\n",
       "A31N0XY2UTB25C    236\n",
       "A1XXMNLOLKNO0I    232\n",
       "                 ... \n",
       "A2WY5PH4O5CDW       1\n",
       "A2WY5K9Z5KTF7M      1\n",
       "A2WY50O1L0XMPD      1\n",
       "A2WY4NSVFD6PO3      1\n",
       "A1LCYW5S3IKKKM      1\n",
       "Length: 830668, dtype: int64"
      ]
     },
     "execution_count": 18,
     "metadata": {},
     "output_type": "execute_result"
    }
   ],
   "source": [
    "import pandas as pd\n",
    "\n",
    "# Get the userID who has the most reviews\n",
    "prep_df = pd.read_csv(data_path + '/preprocessed.output', sep='\\t', header=None)\n",
    "prep_df.columns = ['type', 'label', 'userID', 'itemID', 'ts', 'category']\n",
    "prep_df[['userID']].value_counts() # Note that we have 830668 users"
   ]
  },
  {
   "cell_type": "code",
   "execution_count": 19,
   "metadata": {},
   "outputs": [
    {
     "data": {
      "text/plain": [
       "63725"
      ]
     },
     "execution_count": 19,
     "metadata": {},
     "output_type": "execute_result"
    }
   ],
   "source": [
    "prep_df['itemID'].nunique() # Note that we have 63725 items"
   ]
  },
  {
   "cell_type": "code",
   "execution_count": 20,
   "metadata": {},
   "outputs": [
    {
     "data": {
      "text/html": [
       "<div>\n",
       "<style scoped>\n",
       "    .dataframe tbody tr th:only-of-type {\n",
       "        vertical-align: middle;\n",
       "    }\n",
       "\n",
       "    .dataframe tbody tr th {\n",
       "        vertical-align: top;\n",
       "    }\n",
       "\n",
       "    .dataframe thead th {\n",
       "        text-align: right;\n",
       "    }\n",
       "</style>\n",
       "<table border=\"1\" class=\"dataframe\">\n",
       "  <thead>\n",
       "    <tr style=\"text-align: right;\">\n",
       "      <th></th>\n",
       "      <th>type</th>\n",
       "      <th>label</th>\n",
       "      <th>userID</th>\n",
       "      <th>itemID</th>\n",
       "      <th>ts</th>\n",
       "      <th>category</th>\n",
       "    </tr>\n",
       "  </thead>\n",
       "  <tbody>\n",
       "    <tr>\n",
       "      <th>72789</th>\n",
       "      <td>test</td>\n",
       "      <td>1</td>\n",
       "      <td>ANGGNFE8DXGYC</td>\n",
       "      <td>B013JZCAZK</td>\n",
       "      <td>2018-03-25</td>\n",
       "      <td>Computers</td>\n",
       "    </tr>\n",
       "    <tr>\n",
       "      <th>72788</th>\n",
       "      <td>valid</td>\n",
       "      <td>1</td>\n",
       "      <td>ANGGNFE8DXGYC</td>\n",
       "      <td>B00IXN6L3G</td>\n",
       "      <td>2018-03-25</td>\n",
       "      <td>All Electronics</td>\n",
       "    </tr>\n",
       "    <tr>\n",
       "      <th>72787</th>\n",
       "      <td>train</td>\n",
       "      <td>1</td>\n",
       "      <td>ANGGNFE8DXGYC</td>\n",
       "      <td>B00609B3J2</td>\n",
       "      <td>2018-03-25</td>\n",
       "      <td>Home Audio &amp; Theater</td>\n",
       "    </tr>\n",
       "    <tr>\n",
       "      <th>72786</th>\n",
       "      <td>train</td>\n",
       "      <td>1</td>\n",
       "      <td>ANGGNFE8DXGYC</td>\n",
       "      <td>B00505EZYW</td>\n",
       "      <td>2018-03-25</td>\n",
       "      <td>All Electronics</td>\n",
       "    </tr>\n",
       "    <tr>\n",
       "      <th>72785</th>\n",
       "      <td>train</td>\n",
       "      <td>1</td>\n",
       "      <td>ANGGNFE8DXGYC</td>\n",
       "      <td>B000AO7SJW</td>\n",
       "      <td>2018-03-25</td>\n",
       "      <td>All Electronics</td>\n",
       "    </tr>\n",
       "    <tr>\n",
       "      <th>...</th>\n",
       "      <td>...</td>\n",
       "      <td>...</td>\n",
       "      <td>...</td>\n",
       "      <td>...</td>\n",
       "      <td>...</td>\n",
       "      <td>...</td>\n",
       "    </tr>\n",
       "    <tr>\n",
       "      <th>72497</th>\n",
       "      <td>train</td>\n",
       "      <td>1</td>\n",
       "      <td>ANGGNFE8DXGYC</td>\n",
       "      <td>B008ALA6DW</td>\n",
       "      <td>2015-06-26</td>\n",
       "      <td>Computers</td>\n",
       "    </tr>\n",
       "    <tr>\n",
       "      <th>72496</th>\n",
       "      <td>train</td>\n",
       "      <td>1</td>\n",
       "      <td>ANGGNFE8DXGYC</td>\n",
       "      <td>B0082ZJNW6</td>\n",
       "      <td>2015-06-26</td>\n",
       "      <td>Home Audio &amp; Theater</td>\n",
       "    </tr>\n",
       "    <tr>\n",
       "      <th>72495</th>\n",
       "      <td>train</td>\n",
       "      <td>1</td>\n",
       "      <td>ANGGNFE8DXGYC</td>\n",
       "      <td>B007I59CN6</td>\n",
       "      <td>2015-06-26</td>\n",
       "      <td>Computers</td>\n",
       "    </tr>\n",
       "    <tr>\n",
       "      <th>72494</th>\n",
       "      <td>train</td>\n",
       "      <td>1</td>\n",
       "      <td>ANGGNFE8DXGYC</td>\n",
       "      <td>B006ZGCH18</td>\n",
       "      <td>2015-06-26</td>\n",
       "      <td>Computers</td>\n",
       "    </tr>\n",
       "    <tr>\n",
       "      <th>72466</th>\n",
       "      <td>train</td>\n",
       "      <td>1</td>\n",
       "      <td>ANGGNFE8DXGYC</td>\n",
       "      <td>B000KGLL84</td>\n",
       "      <td>2010-02-05</td>\n",
       "      <td>Car Electronics</td>\n",
       "    </tr>\n",
       "  </tbody>\n",
       "</table>\n",
       "<p>324 rows × 6 columns</p>\n",
       "</div>"
      ],
      "text/plain": [
       "        type  label         userID      itemID         ts  \\\n",
       "72789   test      1  ANGGNFE8DXGYC  B013JZCAZK 2018-03-25   \n",
       "72788  valid      1  ANGGNFE8DXGYC  B00IXN6L3G 2018-03-25   \n",
       "72787  train      1  ANGGNFE8DXGYC  B00609B3J2 2018-03-25   \n",
       "72786  train      1  ANGGNFE8DXGYC  B00505EZYW 2018-03-25   \n",
       "72785  train      1  ANGGNFE8DXGYC  B000AO7SJW 2018-03-25   \n",
       "...      ...    ...            ...         ...        ...   \n",
       "72497  train      1  ANGGNFE8DXGYC  B008ALA6DW 2015-06-26   \n",
       "72496  train      1  ANGGNFE8DXGYC  B0082ZJNW6 2015-06-26   \n",
       "72495  train      1  ANGGNFE8DXGYC  B007I59CN6 2015-06-26   \n",
       "72494  train      1  ANGGNFE8DXGYC  B006ZGCH18 2015-06-26   \n",
       "72466  train      1  ANGGNFE8DXGYC  B000KGLL84 2010-02-05   \n",
       "\n",
       "                   category  \n",
       "72789             Computers  \n",
       "72788       All Electronics  \n",
       "72787  Home Audio & Theater  \n",
       "72786       All Electronics  \n",
       "72785       All Electronics  \n",
       "...                     ...  \n",
       "72497             Computers  \n",
       "72496  Home Audio & Theater  \n",
       "72495             Computers  \n",
       "72494             Computers  \n",
       "72466       Car Electronics  \n",
       "\n",
       "[324 rows x 6 columns]"
      ]
     },
     "execution_count": 20,
     "metadata": {},
     "output_type": "execute_result"
    }
   ],
   "source": [
    "user = 'ANGGNFE8DXGYC'\n",
    "\n",
    "u_df = prep_df[prep_df['userID']==user].copy()\n",
    "u_df['ts'] = pd.to_datetime(u_df['ts'],unit='s')\n",
    "u_df.sort_values(['ts'], inplace=True, ascending=False)\n",
    "u_df"
   ]
  },
  {
   "cell_type": "code",
   "execution_count": 21,
   "metadata": {},
   "outputs": [
    {
     "name": "stdout",
     "output_type": "stream",
     "text": [
      "308\n"
     ]
    }
   ],
   "source": [
    "items_seen = u_df[u_df['type']!='test']['itemID'].unique()\n",
    "print(len(items_seen))\n",
    "\n",
    "all_items_set = set(prep_df['itemID'].unique())\n",
    "items_not_seen = list(all_items_set - set(items_seen))"
   ]
  },
  {
   "cell_type": "code",
   "execution_count": 22,
   "metadata": {},
   "outputs": [],
   "source": [
    "# Get the row from the test file for the user 'ANGGNFE8DXGYC'\n",
    "test_df = pd.read_csv(test_file, sep='\\t', header=None)\n",
    "test_df.columns=['label', 'userID', 'itemID', 'category', 'ts', 'lst_items', 'lst_category', 'lst_ts']\n",
    "test_df = test_df[test_df['userID'] == user]"
   ]
  },
  {
   "cell_type": "code",
   "execution_count": 23,
   "metadata": {},
   "outputs": [],
   "source": [
    "from tqdm import tqdm\n",
    "\n",
    "tmp_dir = TemporaryDirectory()\n",
    "\n",
    "# we only need itemID->category\n",
    "prep_df = prep_df[['itemID', 'category']]\n",
    "prep_df.drop_duplicates(inplace=True)\n",
    "prep_df.set_index('itemID', inplace=True)"
   ]
  },
  {
   "cell_type": "code",
   "execution_count": 24,
   "metadata": {},
   "outputs": [
    {
     "name": "stderr",
     "output_type": "stream",
     "text": [
      "100%|██████████████████████████████████████████████████████████████████████████████████████████████████████████████████| 63417/63417 [00:02<00:00, 26219.02it/s]\n"
     ]
    }
   ],
   "source": [
    "# Create a test file with all the unseen items\n",
    "tst_file = tmp_dir.name + '/tst_file'\n",
    "out = open(tst_file, 'w')\n",
    "\n",
    "# print(tst_file)\n",
    "for item in tqdm(items_not_seen):\n",
    "    if item.startswith('default'):\n",
    "        continue\n",
    "    lst = []\n",
    "    lst.append('1')  # fake label: unused\n",
    "    lst.append(user) # user\n",
    "    lst.append(item) # unseen item\n",
    "    lst.append(prep_df.loc[item]['category'])\n",
    "    \n",
    "    lst.append(str(test_df['ts'].values[0])) # timestamp and history remains the same as the first of 50 rows\n",
    "    lst.append(test_df['lst_items'].values[0])\n",
    "    lst.append(test_df['lst_category'].values[0])\n",
    "    lst.append(test_df['lst_ts'].values[0])\n",
    "\n",
    "    entry = '\\t'.join(lst) + '\\n'\n",
    "    out.write(entry)\n",
    "\n",
    "out.close()"
   ]
  },
  {
   "cell_type": "code",
   "execution_count": 25,
   "metadata": {},
   "outputs": [],
   "source": [
    "# the model's predict function takes in an input test file and outputs prediction scores\n",
    "output_file = os.path.join(tmp_dir.name, r'output.txt')\n",
    "model_best_trained.predict(tst_file, output_file)\n",
    "\n",
    "# now create a result dataframe along with scores\n",
    "res_df = pd.read_csv(tst_file, sep='\\t', header=None)\n",
    "res_df.columns = ['label', 'userID', 'itemID', 'category', 'ts', 'lst_items', 'lst_cate', 'lst_ts']\n",
    "res_df = res_df[['itemID', 'category']]\n",
    "tmp_df = pd.read_csv(output_file, header=None)\n",
    "tmp_df.columns = ['score']\n",
    "res_df['score'] = tmp_df['score']\n",
    "\n",
    "res_df.sort_values(['score'], ascending=False, inplace=True)\n",
    "res_df.reset_index(inplace=True, drop=True)"
   ]
  },
  {
   "cell_type": "code",
   "execution_count": 26,
   "metadata": {},
   "outputs": [
    {
     "data": {
      "text/html": [
       "<div>\n",
       "<style scoped>\n",
       "    .dataframe tbody tr th:only-of-type {\n",
       "        vertical-align: middle;\n",
       "    }\n",
       "\n",
       "    .dataframe tbody tr th {\n",
       "        vertical-align: top;\n",
       "    }\n",
       "\n",
       "    .dataframe thead th {\n",
       "        text-align: right;\n",
       "    }\n",
       "</style>\n",
       "<table border=\"1\" class=\"dataframe\">\n",
       "  <thead>\n",
       "    <tr style=\"text-align: right;\">\n",
       "      <th></th>\n",
       "      <th>asin</th>\n",
       "      <th>title</th>\n",
       "      <th>category</th>\n",
       "    </tr>\n",
       "  </thead>\n",
       "  <tbody>\n",
       "    <tr>\n",
       "      <th>215594</th>\n",
       "      <td>B001584R6E</td>\n",
       "      <td>Power Acoustik BAMF4000/1D 1200W Class D Mono ...</td>\n",
       "      <td>Electronics|Car &amp; Vehicle Electronics|Marine E...</td>\n",
       "    </tr>\n",
       "    <tr>\n",
       "      <th>1231</th>\n",
       "      <td>B000BUBJ9A</td>\n",
       "      <td>Hanes Short Sleeve 6 oz Tagless T-Shirt with P...</td>\n",
       "      <td>Clothing, Shoes &amp; Jewelry|Men|Clothing|Shirts|...</td>\n",
       "    </tr>\n",
       "  </tbody>\n",
       "</table>\n",
       "</div>"
      ],
      "text/plain": [
       "              asin                                              title  \\\n",
       "215594  B001584R6E  Power Acoustik BAMF4000/1D 1200W Class D Mono ...   \n",
       "1231    B000BUBJ9A  Hanes Short Sleeve 6 oz Tagless T-Shirt with P...   \n",
       "\n",
       "                                                 category  \n",
       "215594  Electronics|Car & Vehicle Electronics|Marine E...  \n",
       "1231    Clothing, Shoes & Jewelry|Men|Clothing|Shirts|...  "
      ]
     },
     "execution_count": 26,
     "metadata": {},
     "output_type": "execute_result"
    }
   ],
   "source": [
    "items_df = pd.read_csv(DATA_DIR_WIDE_DEEP + 'all_meta_20.csv', header=None)\n",
    "items_df.columns=['asin','price','title','main_cat','category']\n",
    "items_df = items_df[['asin','title','category']]\n",
    "items_df.sample(2)"
   ]
  },
  {
   "cell_type": "code",
   "execution_count": 27,
   "metadata": {},
   "outputs": [
    {
     "data": {
      "text/html": [
       "<div>\n",
       "<style scoped>\n",
       "    .dataframe tbody tr th:only-of-type {\n",
       "        vertical-align: middle;\n",
       "    }\n",
       "\n",
       "    .dataframe tbody tr th {\n",
       "        vertical-align: top;\n",
       "    }\n",
       "\n",
       "    .dataframe thead th {\n",
       "        text-align: right;\n",
       "    }\n",
       "</style>\n",
       "<table border=\"1\" class=\"dataframe\">\n",
       "  <thead>\n",
       "    <tr style=\"text-align: right;\">\n",
       "      <th></th>\n",
       "      <th>asin</th>\n",
       "      <th>title</th>\n",
       "      <th>category</th>\n",
       "    </tr>\n",
       "  </thead>\n",
       "  <tbody>\n",
       "    <tr>\n",
       "      <th>246366</th>\n",
       "      <td>B013JZCAZK</td>\n",
       "      <td>New iPad 9.7\" (2018 &amp; 2017) / iPad Pro 9.7 / i...</td>\n",
       "      <td>Electronics|Computers &amp; Accessories|Tablet Acc...</td>\n",
       "    </tr>\n",
       "  </tbody>\n",
       "</table>\n",
       "</div>"
      ],
      "text/plain": [
       "              asin                                              title  \\\n",
       "246366  B013JZCAZK  New iPad 9.7\" (2018 & 2017) / iPad Pro 9.7 / i...   \n",
       "\n",
       "                                                 category  \n",
       "246366  Electronics|Computers & Accessories|Tablet Acc...  "
      ]
     },
     "execution_count": 27,
     "metadata": {},
     "output_type": "execute_result"
    }
   ],
   "source": [
    "actual_item_clicked = test_df.iloc[0]['itemID']\n",
    "items_df[items_df['asin'] == actual_item_clicked]"
   ]
  },
  {
   "cell_type": "code",
   "execution_count": 28,
   "metadata": {},
   "outputs": [
    {
     "data": {
      "text/html": [
       "<div>\n",
       "<style scoped>\n",
       "    .dataframe tbody tr th:only-of-type {\n",
       "        vertical-align: middle;\n",
       "    }\n",
       "\n",
       "    .dataframe tbody tr th {\n",
       "        vertical-align: top;\n",
       "    }\n",
       "\n",
       "    .dataframe thead th {\n",
       "        text-align: right;\n",
       "    }\n",
       "</style>\n",
       "<table border=\"1\" class=\"dataframe\">\n",
       "  <thead>\n",
       "    <tr style=\"text-align: right;\">\n",
       "      <th></th>\n",
       "      <th>category_x</th>\n",
       "      <th>score</th>\n",
       "      <th>title</th>\n",
       "      <th>category_y</th>\n",
       "    </tr>\n",
       "  </thead>\n",
       "  <tbody>\n",
       "    <tr>\n",
       "      <th>0</th>\n",
       "      <td>Computers</td>\n",
       "      <td>0.998190</td>\n",
       "      <td>ICY DOCK Dual 2.5 SSD 1 x 3.5 HDD Device Bay t...</td>\n",
       "      <td>Electronics|Computers &amp; Accessories|Computer A...</td>\n",
       "    </tr>\n",
       "    <tr>\n",
       "      <th>1</th>\n",
       "      <td>Computers</td>\n",
       "      <td>0.997840</td>\n",
       "      <td>Ubiquiti Unifi Security Gateway (USG)</td>\n",
       "      <td>Electronics|Computers &amp; Accessories|Networking...</td>\n",
       "    </tr>\n",
       "    <tr>\n",
       "      <th>2</th>\n",
       "      <td>Computers</td>\n",
       "      <td>0.997828</td>\n",
       "      <td>TP-Link AV1200 Powerline Ethernet Adapter - Gi...</td>\n",
       "      <td>Electronics|Computers &amp; Accessories|Networking...</td>\n",
       "    </tr>\n",
       "    <tr>\n",
       "      <th>3</th>\n",
       "      <td>Computers</td>\n",
       "      <td>0.996984</td>\n",
       "      <td>OWC In-Line Digital Thermal Sensor HDD Upgrade...</td>\n",
       "      <td>Electronics|Computers &amp; Accessories|Data Stora...</td>\n",
       "    </tr>\n",
       "    <tr>\n",
       "      <th>4</th>\n",
       "      <td>Computers</td>\n",
       "      <td>0.996789</td>\n",
       "      <td>Linksys Business LGS308 8-Port Gigabit Etherne...</td>\n",
       "      <td>Electronics|Computers &amp; Accessories|Networking...</td>\n",
       "    </tr>\n",
       "    <tr>\n",
       "      <th>5</th>\n",
       "      <td>Computers</td>\n",
       "      <td>0.996709</td>\n",
       "      <td>Crucial 32GB Kit (16GBx2) DDR4 2400 MT/s (PC4-...</td>\n",
       "      <td>Electronics|Computers &amp; Accessories|Computer C...</td>\n",
       "    </tr>\n",
       "    <tr>\n",
       "      <th>6</th>\n",
       "      <td>Computers</td>\n",
       "      <td>0.996218</td>\n",
       "      <td>WT-GPOE-4-48v48w Gigabit Passive PoE 4 Port Po...</td>\n",
       "      <td>Electronics|Computers &amp; Accessories|Networking...</td>\n",
       "    </tr>\n",
       "    <tr>\n",
       "      <th>7</th>\n",
       "      <td>Computers</td>\n",
       "      <td>0.996152</td>\n",
       "      <td>CAT 6 Ethernet Cable (1.5 Feet) LAN, UTP (0.5m...</td>\n",
       "      <td>Electronics|Computers &amp; Accessories|Computer A...</td>\n",
       "    </tr>\n",
       "    <tr>\n",
       "      <th>8</th>\n",
       "      <td>Computers</td>\n",
       "      <td>0.995999</td>\n",
       "      <td>Ubiquiti NanoStation loco M2 - Wireless Access...</td>\n",
       "      <td>Electronics|Computers &amp; Accessories|Networking...</td>\n",
       "    </tr>\n",
       "    <tr>\n",
       "      <th>9</th>\n",
       "      <td>Computers</td>\n",
       "      <td>0.995936</td>\n",
       "      <td>UGREEN 2 Pack USB Extension Cable USB 3.0 Exte...</td>\n",
       "      <td>Electronics|Computers &amp; Accessories|Computer A...</td>\n",
       "    </tr>\n",
       "  </tbody>\n",
       "</table>\n",
       "</div>"
      ],
      "text/plain": [
       "  category_x     score                                              title  \\\n",
       "0  Computers  0.998190  ICY DOCK Dual 2.5 SSD 1 x 3.5 HDD Device Bay t...   \n",
       "1  Computers  0.997840              Ubiquiti Unifi Security Gateway (USG)   \n",
       "2  Computers  0.997828  TP-Link AV1200 Powerline Ethernet Adapter - Gi...   \n",
       "3  Computers  0.996984  OWC In-Line Digital Thermal Sensor HDD Upgrade...   \n",
       "4  Computers  0.996789  Linksys Business LGS308 8-Port Gigabit Etherne...   \n",
       "5  Computers  0.996709  Crucial 32GB Kit (16GBx2) DDR4 2400 MT/s (PC4-...   \n",
       "6  Computers  0.996218  WT-GPOE-4-48v48w Gigabit Passive PoE 4 Port Po...   \n",
       "7  Computers  0.996152  CAT 6 Ethernet Cable (1.5 Feet) LAN, UTP (0.5m...   \n",
       "8  Computers  0.995999  Ubiquiti NanoStation loco M2 - Wireless Access...   \n",
       "9  Computers  0.995936  UGREEN 2 Pack USB Extension Cable USB 3.0 Exte...   \n",
       "\n",
       "                                          category_y  \n",
       "0  Electronics|Computers & Accessories|Computer A...  \n",
       "1  Electronics|Computers & Accessories|Networking...  \n",
       "2  Electronics|Computers & Accessories|Networking...  \n",
       "3  Electronics|Computers & Accessories|Data Stora...  \n",
       "4  Electronics|Computers & Accessories|Networking...  \n",
       "5  Electronics|Computers & Accessories|Computer C...  \n",
       "6  Electronics|Computers & Accessories|Networking...  \n",
       "7  Electronics|Computers & Accessories|Computer A...  \n",
       "8  Electronics|Computers & Accessories|Networking...  \n",
       "9  Electronics|Computers & Accessories|Computer A...  "
      ]
     },
     "execution_count": 28,
     "metadata": {},
     "output_type": "execute_result"
    }
   ],
   "source": [
    "res_merged = res_df.merge(items_df, left_on='itemID', right_on='asin')\n",
    "res_merged.drop(columns=['itemID', 'asin'], inplace=True)\n",
    "res_merged.iloc[:10]"
   ]
  },
  {
   "cell_type": "code",
   "execution_count": 29,
   "metadata": {},
   "outputs": [
    {
     "data": {
      "text/html": [
       "<div>\n",
       "<style scoped>\n",
       "    .dataframe tbody tr th:only-of-type {\n",
       "        vertical-align: middle;\n",
       "    }\n",
       "\n",
       "    .dataframe tbody tr th {\n",
       "        vertical-align: top;\n",
       "    }\n",
       "\n",
       "    .dataframe thead th {\n",
       "        text-align: right;\n",
       "    }\n",
       "</style>\n",
       "<table border=\"1\" class=\"dataframe\">\n",
       "  <thead>\n",
       "    <tr style=\"text-align: right;\">\n",
       "      <th></th>\n",
       "      <th>itemID</th>\n",
       "      <th>category_x</th>\n",
       "      <th>score</th>\n",
       "      <th>asin</th>\n",
       "      <th>title</th>\n",
       "      <th>category_y</th>\n",
       "    </tr>\n",
       "  </thead>\n",
       "  <tbody>\n",
       "    <tr>\n",
       "      <th>3148</th>\n",
       "      <td>B013JZCAZK</td>\n",
       "      <td>Computers</td>\n",
       "      <td>0.932021</td>\n",
       "      <td>B013JZCAZK</td>\n",
       "      <td>New iPad 9.7\" (2018 &amp; 2017) / iPad Pro 9.7 / i...</td>\n",
       "      <td>Electronics|Computers &amp; Accessories|Tablet Acc...</td>\n",
       "    </tr>\n",
       "  </tbody>\n",
       "</table>\n",
       "</div>"
      ],
      "text/plain": [
       "          itemID category_x     score        asin  \\\n",
       "3148  B013JZCAZK  Computers  0.932021  B013JZCAZK   \n",
       "\n",
       "                                                  title  \\\n",
       "3148  New iPad 9.7\" (2018 & 2017) / iPad Pro 9.7 / i...   \n",
       "\n",
       "                                             category_y  \n",
       "3148  Electronics|Computers & Accessories|Tablet Acc...  "
      ]
     },
     "execution_count": 29,
     "metadata": {},
     "output_type": "execute_result"
    }
   ],
   "source": [
    "res_merged = res_df.merge(items_df, left_on='itemID', right_on='asin')\n",
    "res_merged[res_merged['asin']=='B013JZCAZK']"
   ]
  },
  {
   "cell_type": "code",
   "execution_count": 30,
   "metadata": {},
   "outputs": [],
   "source": [
    "res_merged.drop(columns=['itemID', 'asin'], inplace=True)\n",
    "res_merged.to_csv(data_path + '/output_8009.csv', index=False)"
   ]
  },
  {
   "cell_type": "code",
   "execution_count": 31,
   "metadata": {},
   "outputs": [],
   "source": [
    "tmp_dir.cleanup()"
   ]
  },
  {
   "cell_type": "markdown",
   "metadata": {},
   "source": [
    "## References\n",
    "\\[1\\] Zeping Yu, Jianxun Lian, Ahmad Mahmoody, Gongshen Liu, Xing Xie. Adaptive User Modeling with Long and Short-Term Preferences for Personailzed Recommendation. In Proceedings of the 28th International Joint Conferences on Artificial Intelligence, IJCAI’19, Pages 4213-4219. AAAI Press, 2019.\n",
    "\n",
    "\\[2\\] Balázs Hidasi, Alexandros Karatzoglou, Linas Baltrunas, Domonkos Tikk. Session-based Recommendations with Recurrent Neural Networks. ICLR (Poster) 2016\n",
    "\n",
    "\\[3\\] Tang, Jiaxi, and Ke Wang. Personalized top-n sequential recommendation via convolutional sequence embedding. Proceedings of the Eleventh ACM International Conference on Web Search and Data Mining. ACM, 2018.\n",
    "\n",
    "\\[4\\] Yuan, F., Karatzoglou, A., Arapakis, I., Jose, J. M., & He, X. A Simple Convolutional Generative Network for Next Item Recommendation. WSDM, 2019\n",
    "\n",
    "\\[5\\] Lian, J., Batal, I., Liu, Z., Soni, A., Kang, E. Y., Wang, Y., & Xie, X. Multi-Interest-Aware User Modeling for Large-Scale Sequential Recommendations. (2021) arXiv preprint arXiv:2102.09211."
   ]
  }
 ],
 "metadata": {
  "celltoolbar": "Tags",
  "interpreter": {
   "hash": "3a9a0c422ff9f08d62211b9648017c63b0a26d2c935edc37ebb8453675d13bb5"
  },
  "kernelspec": {
   "display_name": "Python 3 (ipykernel)",
   "language": "python",
   "name": "python3"
  },
  "language_info": {
   "codemirror_mode": {
    "name": "ipython",
    "version": 3
   },
   "file_extension": ".py",
   "mimetype": "text/x-python",
   "name": "python",
   "nbconvert_exporter": "python",
   "pygments_lexer": "ipython3",
   "version": "3.9.12"
  }
 },
 "nbformat": 4,
 "nbformat_minor": 2
}
