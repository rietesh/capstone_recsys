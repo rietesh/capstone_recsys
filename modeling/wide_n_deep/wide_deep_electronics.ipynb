{
 "cells": [
  {
   "cell_type": "markdown",
   "metadata": {},
   "source": [
    "# Wide and Deep Model for Amazon Products Recommendation\n",
    "\n",
    "<br>\n",
    "\n",
    "A linear model with a wide set of crossed-column (co-occurrence) features can memorize the feature interactions, while deep neural networks (DNN) can generalize the feature patterns through low-dimensional dense embeddings learned for the sparse features. \n",
    "\n",
    "[**Wide-and-deep**](https://arxiv.org/abs/1606.07792) learning jointly trains wide linear model and deep neural networks to combine the benefits of memorization and generalization for recommender systems.\n",
    "\n",
    "This notebook shows how to build and test the wide-and-deep model using [TensorFlow high-level Estimator API](https://www.tensorflow.org/api_docs/python/tf/estimator/DNNLinearCombinedRegressor). With the [movie recommendation dataset](https://grouplens.org/datasets/movielens/), we quickly demonstrate following topics:\n",
    "1. How to prepare data\n",
    "2. Build the model\n",
    "3. Use log-hook to estimate performance while training\n",
    "4. Test the model and export"
   ]
  },
  {
   "cell_type": "code",
   "execution_count": 1,
   "metadata": {},
   "outputs": [],
   "source": [
    "import sys\n",
    "sys.path.append('../../')"
   ]
  },
  {
   "cell_type": "code",
   "execution_count": 2,
   "metadata": {},
   "outputs": [
    {
     "name": "stdout",
     "output_type": "stream",
     "text": [
      "Tensorflow Version: 2.8.0\n",
      "GPUs:\n",
      " [{'device_name': 'NVIDIA GeForce RTX 3070', 'total_memory': 7982.3125, 'free_memory': 7365.6875}, {'device_name': 'NVIDIA GeForce RTX 3070', 'total_memory': 7982.3125, 'free_memory': 7816.0625}]\n"
     ]
    }
   ],
   "source": [
    "import itertools\n",
    "import math\n",
    "import os\n",
    "from tempfile import TemporaryDirectory\n",
    "\n",
    "import numpy as np\n",
    "import scrapbook as sb\n",
    "import pandas as pd\n",
    "import sklearn.preprocessing\n",
    "import tensorflow as tf\n",
    "\n",
    "tf.get_logger().setLevel('ERROR') # only show error messages\n",
    "\n",
    "from recommenders.utils.constants import (\n",
    "    DEFAULT_USER_COL as USER_COL, # userID\n",
    "    DEFAULT_ITEM_COL as ITEM_COL, # itemID\n",
    "    DEFAULT_RATING_COL as RATING_COL, # rating\n",
    "    DEFAULT_PREDICTION_COL as PREDICT_COL, # prediction\n",
    "    DEFAULT_GENRE_COL as ITEM_FEAT_COL, # features\n",
    "    SEED,\n",
    "    DEFAULT_K,\n",
    "    DEFAULT_THRESHOLD\n",
    ")\n",
    "\n",
    "from recommenders.utils import tf_utils, gpu_utils, plot\n",
    "from recommenders.datasets import movielens\n",
    "from recommenders.datasets.pandas_df_utils import user_item_pairs\n",
    "from recommenders.datasets.python_splitters import python_random_split\n",
    "import recommenders.evaluation.python_evaluation as evaluator\n",
    "import recommenders.models.wide_deep.wide_deep_utils as wide_deep\n",
    "\n",
    "print(\"Tensorflow Version:\", tf.__version__)\n",
    "print(\"GPUs:\\n\", gpu_utils.get_gpu_info())\n",
    "# tf.config.set_visible_devices([], 'GPU') # force to run on CPU"
   ]
  },
  {
   "cell_type": "code",
   "execution_count": 3,
   "metadata": {
    "tags": [
     "parameters"
    ]
   },
   "outputs": [],
   "source": [
    "\"\"\"Parameters\"\"\"\n",
    "\n",
    "# Recommend top k items\n",
    "TOP_K = 10\n",
    "\n",
    "# Metrics to use for evaluation\n",
    "RANKING_METRICS = [\n",
    "    evaluator.ndcg_at_k.__name__,\n",
    "    evaluator.precision_at_k.__name__,\n",
    "]\n",
    "\n",
    "RATING_METRICS = [\n",
    "    evaluator.rmse.__name__,\n",
    "    evaluator.mae.__name__,\n",
    "]\n",
    "\n",
    "# Use session hook to evaluate model while training\n",
    "EVALUATE_WHILE_TRAINING = True\n",
    "\n",
    "RANDOM_SEED = SEED  # Set seed for deterministic result\n",
    "\n",
    "# Train and test set pickle file paths. If provided, use them. Otherwise, download the MovieLens dataset.\n",
    "DATA_DIR = '/home/shiv/Documents/DataScience/Capstone/Data/'\n",
    "EXPORT_DIR_BASE = './outputs/model'\n",
    "\n",
    "# Model checkpoints directory. If None, use temp-dir.\n",
    "MODEL_DIR = None\n",
    "\n",
    "#### Hyperparameters\n",
    "MODEL_TYPE = 'wide_deep'\n",
    "STEPS = 50000  # Number of batches to train\n",
    "BATCH_SIZE = 32\n",
    "\n",
    "# Wide (linear) model hyperparameters\n",
    "LINEAR_OPTIMIZER = 'adagrad'\n",
    "LINEAR_OPTIMIZER_LR = 0.0621  # Learning rate\n",
    "LINEAR_L1_REG = 0.0           # Regularization rate for FtrlOptimizer\n",
    "LINEAR_L2_REG = 0.0\n",
    "LINEAR_MOMENTUM = 0.0         # Momentum for MomentumOptimizer or RMSPropOptimizer\n",
    "\n",
    "# DNN model hyperparameters\n",
    "DNN_OPTIMIZER = 'adadelta'\n",
    "DNN_OPTIMIZER_LR = 0.1\n",
    "DNN_L1_REG = 0.0           # Regularization rate for FtrlOptimizer\n",
    "DNN_L2_REG = 0.0\n",
    "DNN_MOMENTUM = 0.0         # Momentum for MomentumOptimizer or RMSPropOptimizer\n",
    "\n",
    "# Layer dimensions. Defined as follows to make this notebook runnable from Hyperparameter tuning services like AzureML Hyperdrive\n",
    "DNN_HIDDEN_LAYER_1 = 0     # Set 0 to not use this layer\n",
    "DNN_HIDDEN_LAYER_2 = 64    # Set 0 to not use this layer\n",
    "DNN_HIDDEN_LAYER_3 = 128   # Set 0 to not use this layer\n",
    "DNN_HIDDEN_LAYER_4 = 512   # Note, at least one layer should have nodes.\n",
    "DNN_HIDDEN_UNITS = [h for h in [DNN_HIDDEN_LAYER_1, DNN_HIDDEN_LAYER_2, DNN_HIDDEN_LAYER_3, DNN_HIDDEN_LAYER_4] if h > 0]\n",
    "DNN_USER_DIM = 32          # User embedding feature dimension\n",
    "DNN_ITEM_DIM = 16          # Item embedding feature dimension\n",
    "DNN_DROPOUT = 0.8\n",
    "DNN_BATCH_NORM = 1         # 1 to use batch normalization, 0 if not."
   ]
  },
  {
   "cell_type": "markdown",
   "metadata": {},
   "source": [
    "### 1. Prepare Data\n",
    "\n",
    "#### 1.1 Amazon reviews and Amazon meta data"
   ]
  },
  {
   "cell_type": "code",
   "execution_count": 4,
   "metadata": {},
   "outputs": [],
   "source": [
    "ratings_df = pd.read_csv(DATA_DIR + 'wide_deep_amzn_e_20.csv', header=None, low_memory=False)"
   ]
  },
  {
   "cell_type": "code",
   "execution_count": 5,
   "metadata": {},
   "outputs": [
    {
     "data": {
      "text/html": [
       "<div>\n",
       "<style scoped>\n",
       "    .dataframe tbody tr th:only-of-type {\n",
       "        vertical-align: middle;\n",
       "    }\n",
       "\n",
       "    .dataframe tbody tr th {\n",
       "        vertical-align: top;\n",
       "    }\n",
       "\n",
       "    .dataframe thead th {\n",
       "        text-align: right;\n",
       "    }\n",
       "</style>\n",
       "<table border=\"1\" class=\"dataframe\">\n",
       "  <thead>\n",
       "    <tr style=\"text-align: right;\">\n",
       "      <th></th>\n",
       "      <th>userID</th>\n",
       "      <th>itemID</th>\n",
       "      <th>rating</th>\n",
       "      <th>genre</th>\n",
       "      <th>unixTimeStamp</th>\n",
       "      <th>title</th>\n",
       "      <th>price</th>\n",
       "      <th>main_cat</th>\n",
       "      <th>category</th>\n",
       "    </tr>\n",
       "  </thead>\n",
       "  <tbody>\n",
       "    <tr>\n",
       "      <th>0</th>\n",
       "      <td>0</td>\n",
       "      <td>0</td>\n",
       "      <td>5.0</td>\n",
       "      <td>Portable Audio &amp; Accessories</td>\n",
       "      <td>1424217600</td>\n",
       "      <td>Kastar 2-Pack Replacement Battery for Midland ...</td>\n",
       "      <td>$15.99</td>\n",
       "      <td>Portable Audio &amp; Accessories</td>\n",
       "      <td></td>\n",
       "    </tr>\n",
       "    <tr>\n",
       "      <th>1</th>\n",
       "      <td>1</td>\n",
       "      <td>0</td>\n",
       "      <td>5.0</td>\n",
       "      <td>Portable Audio &amp; Accessories</td>\n",
       "      <td>1422662400</td>\n",
       "      <td>Kastar 2-Pack Replacement Battery for Midland ...</td>\n",
       "      <td>$15.99</td>\n",
       "      <td>Portable Audio &amp; Accessories</td>\n",
       "      <td></td>\n",
       "    </tr>\n",
       "    <tr>\n",
       "      <th>2</th>\n",
       "      <td>2</td>\n",
       "      <td>0</td>\n",
       "      <td>5.0</td>\n",
       "      <td>Portable Audio &amp; Accessories</td>\n",
       "      <td>1477612800</td>\n",
       "      <td>Kastar 2-Pack Replacement Battery for Midland ...</td>\n",
       "      <td>$15.99</td>\n",
       "      <td>Portable Audio &amp; Accessories</td>\n",
       "      <td></td>\n",
       "    </tr>\n",
       "    <tr>\n",
       "      <th>3</th>\n",
       "      <td>3</td>\n",
       "      <td>0</td>\n",
       "      <td>5.0</td>\n",
       "      <td>Portable Audio &amp; Accessories</td>\n",
       "      <td>1476316800</td>\n",
       "      <td>Kastar 2-Pack Replacement Battery for Midland ...</td>\n",
       "      <td>$15.99</td>\n",
       "      <td>Portable Audio &amp; Accessories</td>\n",
       "      <td></td>\n",
       "    </tr>\n",
       "    <tr>\n",
       "      <th>4</th>\n",
       "      <td>4</td>\n",
       "      <td>0</td>\n",
       "      <td>5.0</td>\n",
       "      <td>Portable Audio &amp; Accessories</td>\n",
       "      <td>1474156800</td>\n",
       "      <td>Kastar 2-Pack Replacement Battery for Midland ...</td>\n",
       "      <td>$15.99</td>\n",
       "      <td>Portable Audio &amp; Accessories</td>\n",
       "      <td></td>\n",
       "    </tr>\n",
       "  </tbody>\n",
       "</table>\n",
       "</div>"
      ],
      "text/plain": [
       "   userID  itemID  rating                         genre  unixTimeStamp  \\\n",
       "0       0       0     5.0  Portable Audio & Accessories     1424217600   \n",
       "1       1       0     5.0  Portable Audio & Accessories     1422662400   \n",
       "2       2       0     5.0  Portable Audio & Accessories     1477612800   \n",
       "3       3       0     5.0  Portable Audio & Accessories     1476316800   \n",
       "4       4       0     5.0  Portable Audio & Accessories     1474156800   \n",
       "\n",
       "                                               title   price  \\\n",
       "0  Kastar 2-Pack Replacement Battery for Midland ...  $15.99   \n",
       "1  Kastar 2-Pack Replacement Battery for Midland ...  $15.99   \n",
       "2  Kastar 2-Pack Replacement Battery for Midland ...  $15.99   \n",
       "3  Kastar 2-Pack Replacement Battery for Midland ...  $15.99   \n",
       "4  Kastar 2-Pack Replacement Battery for Midland ...  $15.99   \n",
       "\n",
       "                       main_cat category  \n",
       "0  Portable Audio & Accessories           \n",
       "1  Portable Audio & Accessories           \n",
       "2  Portable Audio & Accessories           \n",
       "3  Portable Audio & Accessories           \n",
       "4  Portable Audio & Accessories           "
      ]
     },
     "execution_count": 5,
     "metadata": {},
     "output_type": "execute_result"
    }
   ],
   "source": [
    "ratings_df.columns=['userID','itemID', 'rating','genre','unixTimeStamp','title','price','main_cat','category']\n",
    "ratings_df['category'].fillna('', inplace=True)\n",
    "ratings_df['price'].fillna('$$$', inplace=True)\n",
    "ratings_df.head()"
   ]
  },
  {
   "cell_type": "code",
   "execution_count": 6,
   "metadata": {},
   "outputs": [],
   "source": [
    "ratings_df = ratings_df[['userID','itemID','rating','genre']]"
   ]
  },
  {
   "cell_type": "markdown",
   "metadata": {},
   "source": [
    "#### 1.2 Encode Item Features (Genres)\n",
    "To use genres from our model, we multi-hot-encode them with scikit-learn's [MultiLabelBinarizer](https://scikit-learn.org/stable/modules/generated/sklearn.preprocessing.MultiLabelBinarizer.html).\n",
    "\n",
    "For example, *Movie id=2355* has three genres, *Animation|Children's|Comedy*, which are being converted into an integer array of the indicator value for each genre like `[0, 0, 1, 1, 1, 0, 0, 0, ...]`. In the later step, we convert this into a float array and feed into the model.\n",
    "\n",
    "> For faster feature encoding, you may load ratings and items separately (by using `movielens.load_item_df`), encode the item-features, then combine the rating and item dataframes by using join-operation. "
   ]
  },
  {
   "cell_type": "code",
   "execution_count": 7,
   "metadata": {},
   "outputs": [
    {
     "name": "stdout",
     "output_type": "stream",
     "text": [
      "Genres: ['Accessories' 'Accessories & Supplies' 'All Electronics' 'Amazon Devices'\n",
      " 'Apple Products' 'Audio & Video Accessories' 'Automotive'\n",
      " 'Camera & Photo' 'Car & Vehicle Electronics' 'Car Electronics'\n",
      " 'Cell Phones & Accessories' 'Clothing, Shoes & Jewelry'\n",
      " 'Computer Accessories & Peripherals' 'Computer Components' 'Computers'\n",
      " 'Computers & Accessories' 'Controllers' 'Electrical' 'Electronics'\n",
      " 'GPS & Navigation' 'Home & Kitchen' 'Home Audio' 'Home Audio & Theater'\n",
      " 'Industrial & Scientific' 'Laptop Accessories' 'Musical Instruments'\n",
      " 'Office & School Supplies' 'Office Electronics' 'Office Products'\n",
      " 'Portable Audio & Accessories' 'Portable Audio & Video'\n",
      " 'Sports & Fitness' 'Sports & Outdoors' 'Tools & Home Improvement'\n",
      " 'Toys & Games' 'Video Games']\n",
      "Num genres: 36\n"
     ]
    }
   ],
   "source": [
    "# Encode 'genres' into int array (multi-hot representation) to use as item features\n",
    "genres_encoder = sklearn.preprocessing.MultiLabelBinarizer()\n",
    "ratings_df[ITEM_FEAT_COL] = genres_encoder.fit_transform(\n",
    "    ratings_df[ITEM_FEAT_COL].apply(lambda s: s.split(\"|\"))\n",
    ").tolist()\n",
    "\n",
    "print(\"Genres:\", genres_encoder.classes_)\n",
    "print(\"Num genres:\", len(genres_encoder.classes_))"
   ]
  },
  {
   "cell_type": "markdown",
   "metadata": {},
   "source": [
    "#### 1.3 Train and Test Split"
   ]
  },
  {
   "cell_type": "code",
   "execution_count": 8,
   "metadata": {},
   "outputs": [
    {
     "name": "stdout",
     "output_type": "stream",
     "text": [
      "4209887 train samples and 1403296 test samples\n"
     ]
    }
   ],
   "source": [
    "train, test = python_random_split(ratings_df, ratio=0.75, seed=RANDOM_SEED)\n",
    "\n",
    "print(\"{} train samples and {} test samples\".format(len(train), len(test)))"
   ]
  },
  {
   "cell_type": "markdown",
   "metadata": {},
   "source": [
    "<a id=\"users_items\"></a>\n",
    "#### Generate users and items datasets"
   ]
  },
  {
   "cell_type": "code",
   "execution_count": 9,
   "metadata": {
    "scrolled": false
   },
   "outputs": [
    {
     "name": "stdout",
     "output_type": "stream",
     "text": [
      "(5613183, 4)\n",
      "(63725, 2)\n",
      "36\n"
     ]
    }
   ],
   "source": [
    "# Unique items in the dataset\n",
    "print(ratings_df.shape)\n",
    "items = ratings_df.drop_duplicates(ITEM_COL)[[ITEM_COL, ITEM_FEAT_COL]].reset_index(drop=True)\n",
    "print(items.shape)\n",
    "item_feat_shape = len(items[ITEM_FEAT_COL][0])\n",
    "print(item_feat_shape) # number of genres"
   ]
  },
  {
   "cell_type": "code",
   "execution_count": 10,
   "metadata": {},
   "outputs": [
    {
     "name": "stdout",
     "output_type": "stream",
     "text": [
      "Total 63725 items and 830668 users in the dataset\n"
     ]
    }
   ],
   "source": [
    "# Unique users in the dataset\n",
    "users = ratings_df.drop_duplicates(USER_COL)[[USER_COL]].reset_index(drop=True)\n",
    "\n",
    "print(\"Total {} items and {} users in the dataset\".format(len(items), len(users)))"
   ]
  },
  {
   "cell_type": "markdown",
   "metadata": {},
   "source": [
    "## [Jump to Model Serving](#model_serving) if we already have a pre-built model!"
   ]
  },
  {
   "cell_type": "markdown",
   "metadata": {},
   "source": [
    "### 2. Build Model\n",
    "\n",
    "Wide-and-deep model consists of a linear model and DNN. We use the following hyperparameters and feature sets for the model:\n",
    "\n",
    "<br> | <div align=\"center\">Wide (linear) model</div> | <div align=\"center\">Deep neural networks</div>\n",
    "---|---|---\n",
    "Feature set | <ul><li>User-item co-occurrence features<br>to capture how their co-occurrence<br>correlates with the target rating</li></ul> | <ul><li>Deep, lower-dimensional embedding vectors<br>for every user and item</li><li>Item feature vector</li></ul>\n",
    "Hyperparameters | <ul><li>FTRL optimizer</li><li>Learning rate = 0.0029</li><li>L1 regularization = 0.0</li></ul> | <ul><li>Adagrad optimizer</li><li>Learning rate = 0.1</li><li>Hidden units = [128, 256, 32]</li><li>Dropout rate = 0.4</li><li>Use batch normalization (Batch size = 64)</li><li>User embedding vector size = 4</li><li>Item embedding vector size = 4</li></ul>\n",
    "\n",
    "<br>\n",
    "\n",
    "* [FTRL optimizer](https://www.eecs.tufts.edu/~dsculley/papers/ad-click-prediction.pdf)\n",
    "* [Adagrad optimizer](http://www.jmlr.org/papers/volume12/duchi11a/duchi11a.pdf)\n",
    "\n",
    "Note, the hyperparameters are optimized for the training set. We used **Azure Machine Learning service** ([AzureML](https://azure.microsoft.com/en-us/services/machine-learning-service/)) to find the best hyperparameters, where we further split the training set into two subsets for training and validation respectively so that the test set is being separated from the tuning and training phases. For more details, see [azureml_hyperdrive_wide_and_deep.ipynb](../04_model_select_and_optimize/azureml_hyperdrive_wide_and_deep.ipynb)."
   ]
  },
  {
   "cell_type": "code",
   "execution_count": 12,
   "metadata": {},
   "outputs": [],
   "source": [
    "STEPS=1000000"
   ]
  },
  {
   "cell_type": "code",
   "execution_count": 13,
   "metadata": {},
   "outputs": [
    {
     "name": "stdout",
     "output_type": "stream",
     "text": [
      "/tmp/tmpelq7y_mc\n"
     ]
    }
   ],
   "source": [
    "# Create model checkpoint every n steps. We store the model 5 times.\n",
    "save_checkpoints_steps = max(1, STEPS // 10) # STEPS = 50000\n",
    "TMP_DIR = TemporaryDirectory()\n",
    "model_dir = TMP_DIR.name\n",
    "print(model_dir)"
   ]
  },
  {
   "cell_type": "code",
   "execution_count": 14,
   "metadata": {},
   "outputs": [
    {
     "name": "stdout",
     "output_type": "stream",
     "text": [
      "Wide feature specs:\n",
      "\t VocabularyListCategoricalColumn(key='userID', vocabulary_list=(0, 1, 2, 3, 4, 5, 6, 7, 8, 9, 10, 11, ...\n",
      "\t VocabularyListCategoricalColumn(key='itemID', vocabulary_list=(0, 1, 2, 3, 4, 5, 6, 7, 8, 9, 10, 11, ...\n",
      "\t CrossedColumn(keys=(VocabularyListCategoricalColumn(key='userID', vocabulary_list=(0, 1, 2, 3, 4, 5, ...\n",
      "Deep feature specs:\n",
      "\t EmbeddingColumn(categorical_column=VocabularyListCategoricalColumn(key='userID', vocabulary_list=(0, ...\n",
      "\t EmbeddingColumn(categorical_column=VocabularyListCategoricalColumn(key='itemID', vocabulary_list=(0, ...\n",
      "\t NumericColumn(key='genre', shape=(36,), default_value=None, dtype=tf.float32, normalizer_fn=None) ...\n"
     ]
    }
   ],
   "source": [
    "# Define wide (linear) and deep (dnn) features\n",
    "wide_columns, deep_columns = wide_deep.build_feature_columns(\n",
    "    users=users[USER_COL].values,\n",
    "    items=items[ITEM_COL].values,\n",
    "    user_col=USER_COL, # userID\n",
    "    item_col=ITEM_COL, # itemID\n",
    "    item_feat_col=ITEM_FEAT_COL, # genre\n",
    "    crossed_feat_dim=1000,\n",
    "    user_dim=DNN_USER_DIM, # 32\n",
    "    item_dim=DNN_ITEM_DIM, # 16\n",
    "    item_feat_shape=item_feat_shape, # 19\n",
    "    model_type=MODEL_TYPE,  # 'wide_deep'\n",
    ")\n",
    "\n",
    "print(\"Wide feature specs:\")\n",
    "for c in wide_columns:\n",
    "    print(\"\\t\", str(c)[:100], \"...\")\n",
    "print(\"Deep feature specs:\")\n",
    "for c in deep_columns:\n",
    "    print(\"\\t\", str(c)[:100], \"...\")"
   ]
  },
  {
   "cell_type": "code",
   "execution_count": 15,
   "metadata": {},
   "outputs": [],
   "source": [
    "# Build a model based on the parameters\n",
    "model = wide_deep.build_model(\n",
    "    model_dir=model_dir,\n",
    "    wide_columns=wide_columns,\n",
    "    deep_columns=deep_columns,\n",
    "    linear_optimizer=tf_utils.build_optimizer(LINEAR_OPTIMIZER, LINEAR_OPTIMIZER_LR, **{\n",
    "        'l1_regularization_strength': LINEAR_L1_REG, # 0.0\n",
    "        'l2_regularization_strength': LINEAR_L2_REG, # 0.0\n",
    "        'momentum': LINEAR_MOMENTUM,  # 0.0\n",
    "    }),\n",
    "    dnn_optimizer=tf_utils.build_optimizer(DNN_OPTIMIZER, DNN_OPTIMIZER_LR, **{\n",
    "        'l1_regularization_strength': DNN_L1_REG, # 0.0\n",
    "        'l2_regularization_strength': DNN_L2_REG, # 0.0\n",
    "        'momentum': DNN_MOMENTUM,  # 0.0\n",
    "    }),\n",
    "    dnn_hidden_units=DNN_HIDDEN_UNITS, # [64, 128, 512]\n",
    "    dnn_dropout=DNN_DROPOUT, # 0.8\n",
    "    dnn_batch_norm=(DNN_BATCH_NORM==1), # DNN_BATCH_NORM = 1\n",
    "    log_every_n_iter=max(1, STEPS//10),  # log 10 times\n",
    "    save_checkpoints_steps=save_checkpoints_steps,\n",
    "    seed=RANDOM_SEED # 42\n",
    ")"
   ]
  },
  {
   "cell_type": "markdown",
   "metadata": {},
   "source": [
    "### 3. Train and Evaluate Model\n",
    "\n",
    "Now we are all set to train the model. Here, we show how to utilize session hooks to track model performance while training. Our custom hook `tf_utils.evaluation_log_hook` estimates the model performance on the given data based on the specified evaluation functions. Note we pass test set to evaluate the model on rating metrics while we use <span id=\"ranking-pool\">ranking-pool (all the user-item pairs)</span> for ranking metrics.\n",
    "\n",
    "> Note: The TensorFlow Estimator's default loss calculates Mean Squared Error. Square root of the loss is the same as [RMSE](https://en.wikipedia.org/wiki/Root-mean-square_deviation)."
   ]
  },
  {
   "cell_type": "markdown",
   "metadata": {},
   "source": [
    "## Notes\n",
    "\n",
    "- We cannot prepare ranking evaluation set. The memory requirement is simply too big.\n",
    "- E.g. for 1_000_000 users and 50_000 items, we would need 50 GB of memory\n",
    "- Without the ranking pool, we cannot use ndcg@k or precision@k ranking metric"
   ]
  },
  {
   "cell_type": "code",
   "execution_count": 16,
   "metadata": {},
   "outputs": [],
   "source": [
    "cols = {\n",
    "    'col_user': USER_COL, # \"userID\"\n",
    "    'col_item': ITEM_COL, # \"itemID\"\n",
    "    'col_rating': RATING_COL, # \"rating\"\n",
    "    'col_prediction': PREDICT_COL, # \"prediction\"\n",
    "}\n",
    "ranking_pool = None\n",
    "# Prepare ranking evaluation set, i.e. get the cross join of all user-item pairs\n",
    "# ranking_pool = user_item_pairs(\n",
    "#     user_df=users,\n",
    "#     item_df=items,\n",
    "#     user_col=USER_COL,\n",
    "#     item_col=ITEM_COL,\n",
    "#     user_item_filter_df=train,  # Remove seen items; train: userID, itemID, rating, genre\n",
    "#     shuffle=False,\n",
    "#     seed=RANDOM_SEED\n",
    "# )\n",
    "# ranking_pool has 1682X983 - 75_000 = 1_511_126 cartesian product\n",
    "# 6040 x 3706 - 750156 = 21634084"
   ]
  },
  {
   "cell_type": "code",
   "execution_count": 19,
   "metadata": {},
   "outputs": [],
   "source": [
    "# for metrics in (RANKING_METRICS, RATING_METRICS):\n",
    "#     print(metrics)"
   ]
  },
  {
   "cell_type": "code",
   "execution_count": 17,
   "metadata": {
    "scrolled": false
   },
   "outputs": [],
   "source": [
    "# Define training hooks to track performance while training\n",
    "# ndcg: Normalized Discounted Cumulative Gain\n",
    "hooks = []\n",
    "if EVALUATE_WHILE_TRAINING: # True\n",
    "    evaluation_logger = tf_utils.MetricsLogger()\n",
    "#     for metrics in (RANKING_METRICS, RATING_METRICS): # ndcg_at_k, precision_at_k; rmse, mae\n",
    "#         if len(metrics) > 0:\n",
    "    hooks.append(\n",
    "        tf_utils.evaluation_log_hook(\n",
    "            model,\n",
    "            logger=evaluation_logger,\n",
    "            true_df=test,\n",
    "            y_col=RATING_COL,\n",
    "#             eval_df=ranking_pool if metrics==RANKING_METRICS else test.drop(RATING_COL, axis=1),\n",
    "            eval_df=test.drop(RATING_COL, axis=1),\n",
    "            every_n_iter=save_checkpoints_steps,\n",
    "            model_dir=model_dir,\n",
    "#                     eval_fns=[evaluator.metrics[m] for m in metrics],\n",
    "            eval_fns=[evaluator.metrics[metrics] for metrics in RATING_METRICS],\n",
    "#             **({**cols, 'k': TOP_K} if metrics==RANKING_METRICS else cols)\n",
    "            **(cols)\n",
    "        )\n",
    "    )\n",
    "\n",
    "# Define training input (sample feeding) function\n",
    "train_fn = tf_utils.pandas_input_fn(\n",
    "    df=train,\n",
    "    y_col=RATING_COL,\n",
    "    batch_size=BATCH_SIZE,\n",
    "    num_epochs=None,  # We use steps=TRAIN_STEPS instead.\n",
    "    shuffle=True,\n",
    "    seed=RANDOM_SEED,\n",
    ")"
   ]
  },
  {
   "cell_type": "markdown",
   "metadata": {},
   "source": [
    "Let's train the model."
   ]
  },
  {
   "cell_type": "code",
   "execution_count": 18,
   "metadata": {
    "scrolled": true
   },
   "outputs": [
    {
     "name": "stdout",
     "output_type": "stream",
     "text": [
      "Training steps = 1000000, Batch size = 32 (num epochs = 7)\n",
      "WARNING:tensorflow:From /home/shiv/anaconda3/envs/RecSys_39/lib/python3.9/site-packages/tensorflow/python/training/training_util.py:396: Variable.initialized_value (from tensorflow.python.ops.variables) is deprecated and will be removed in a future version.\n",
      "Instructions for updating:\n",
      "Use Variable.read_value. Variables in 2.X are initialized automatically both in eager and graph (inside tf.defun) contexts.\n",
      "INFO:tensorflow:Calling model_fn.\n",
      "WARNING:tensorflow:From /home/shiv/anaconda3/envs/RecSys_39/lib/python3.9/site-packages/keras/layers/normalization/batch_normalization.py:532: _colocate_with (from tensorflow.python.framework.ops) is deprecated and will be removed in a future version.\n",
      "Instructions for updating:\n",
      "Colocations handled automatically by placer.\n"
     ]
    },
    {
     "name": "stderr",
     "output_type": "stream",
     "text": [
      "/home/shiv/anaconda3/envs/RecSys_39/lib/python3.9/site-packages/tensorflow_estimator/python/estimator/canned/linear.py:1468: UserWarning: `layer.add_variable` is deprecated and will be removed in a future version. Please use `layer.add_weight` method instead.\n",
      "  self.bias = self.add_variable(\n"
     ]
    },
    {
     "name": "stdout",
     "output_type": "stream",
     "text": [
      "WARNING:tensorflow:From /home/shiv/anaconda3/envs/RecSys_39/lib/python3.9/site-packages/tensorflow/python/training/adagrad.py:138: calling Constant.__init__ (from tensorflow.python.ops.init_ops) with dtype is deprecated and will be removed in a future version.\n",
      "Instructions for updating:\n",
      "Call initializer instance with the dtype argument instead of passing it to the constructor\n",
      "INFO:tensorflow:Done calling model_fn.\n",
      "INFO:tensorflow:Create CheckpointSaverHook.\n",
      "INFO:tensorflow:Graph was finalized.\n"
     ]
    },
    {
     "name": "stderr",
     "output_type": "stream",
     "text": [
      "2022-08-01 15:32:25.068376: I tensorflow/core/platform/cpu_feature_guard.cc:151] This TensorFlow binary is optimized with oneAPI Deep Neural Network Library (oneDNN) to use the following CPU instructions in performance-critical operations:  AVX2 FMA\n",
      "To enable them in other operations, rebuild TensorFlow with the appropriate compiler flags.\n",
      "2022-08-01 15:32:25.803186: I tensorflow/core/common_runtime/gpu/gpu_device.cc:1525] Created device /job:localhost/replica:0/task:0/device:GPU:0 with 5633 MB memory:  -> device: 0, name: NVIDIA GeForce RTX 3070, pci bus id: 0000:01:00.0, compute capability: 8.6\n",
      "2022-08-01 15:32:25.804343: I tensorflow/core/common_runtime/gpu/gpu_device.cc:1525] Created device /job:localhost/replica:0/task:0/device:GPU:1 with 6114 MB memory:  -> device: 1, name: NVIDIA GeForce RTX 3070, pci bus id: 0000:04:00.0, compute capability: 8.6\n"
     ]
    },
    {
     "name": "stdout",
     "output_type": "stream",
     "text": [
      "INFO:tensorflow:Running local_init_op.\n",
      "INFO:tensorflow:Done running local_init_op.\n",
      "INFO:tensorflow:Calling checkpoint listeners before saving checkpoint 0...\n",
      "INFO:tensorflow:Saving checkpoints for 0 into /tmp/tmpelq7y_mc/model.ckpt.\n",
      "INFO:tensorflow:Calling checkpoint listeners after saving checkpoint 0...\n"
     ]
    },
    {
     "name": "stderr",
     "output_type": "stream",
     "text": [
      "2022-08-01 15:33:11.765537: I tensorflow/stream_executor/cuda/cuda_blas.cc:1786] TensorFloat-32 will be used for the matrix multiplication. This will only be logged once.\n",
      "2022-08-01 15:33:16.809980: I tensorflow/core/common_runtime/gpu/gpu_device.cc:1525] Created device /job:localhost/replica:0/task:0/device:GPU:0 with 5633 MB memory:  -> device: 0, name: NVIDIA GeForce RTX 3070, pci bus id: 0000:01:00.0, compute capability: 8.6\n",
      "2022-08-01 15:33:16.810185: I tensorflow/core/common_runtime/gpu/gpu_device.cc:1525] Created device /job:localhost/replica:0/task:0/device:GPU:1 with 6114 MB memory:  -> device: 1, name: NVIDIA GeForce RTX 3070, pci bus id: 0000:04:00.0, compute capability: 8.6\n"
     ]
    },
    {
     "name": "stdout",
     "output_type": "stream",
     "text": [
      "INFO:tensorflow:loss = 689.2922, step = 0\n",
      "INFO:tensorflow:Calling checkpoint listeners before saving checkpoint 100000...\n",
      "INFO:tensorflow:Saving checkpoints for 100000 into /tmp/tmpelq7y_mc/model.ckpt.\n",
      "INFO:tensorflow:Calling checkpoint listeners after saving checkpoint 100000...\n",
      "INFO:tensorflow:global_step/sec: 104.552\n"
     ]
    },
    {
     "name": "stderr",
     "output_type": "stream",
     "text": [
      "/home/shiv/anaconda3/envs/RecSys_39/lib/python3.9/site-packages/tensorflow_estimator/python/estimator/canned/linear.py:1468: UserWarning: `layer.add_variable` is deprecated and will be removed in a future version. Please use `layer.add_weight` method instead.\n",
      "  self.bias = self.add_variable(\n",
      "2022-08-01 15:49:13.227980: I tensorflow/core/common_runtime/gpu/gpu_device.cc:1525] Created device /job:localhost/replica:0/task:0/device:GPU:0 with 5633 MB memory:  -> device: 0, name: NVIDIA GeForce RTX 3070, pci bus id: 0000:01:00.0, compute capability: 8.6\n",
      "2022-08-01 15:49:13.228168: I tensorflow/core/common_runtime/gpu/gpu_device.cc:1525] Created device /job:localhost/replica:0/task:0/device:GPU:1 with 6114 MB memory:  -> device: 1, name: NVIDIA GeForce RTX 3070, pci bus id: 0000:04:00.0, compute capability: 8.6\n"
     ]
    },
    {
     "name": "stdout",
     "output_type": "stream",
     "text": [
      "INFO:tensorflow:loss = 24.614544, step = 100000 (971.602 sec)\n",
      "INFO:tensorflow:Calling checkpoint listeners before saving checkpoint 200000...\n",
      "INFO:tensorflow:Saving checkpoints for 200000 into /tmp/tmpelq7y_mc/model.ckpt.\n",
      "INFO:tensorflow:Calling checkpoint listeners after saving checkpoint 200000...\n",
      "INFO:tensorflow:global_step/sec: 108.418\n"
     ]
    },
    {
     "name": "stderr",
     "output_type": "stream",
     "text": [
      "/home/shiv/anaconda3/envs/RecSys_39/lib/python3.9/site-packages/tensorflow_estimator/python/estimator/canned/linear.py:1468: UserWarning: `layer.add_variable` is deprecated and will be removed in a future version. Please use `layer.add_weight` method instead.\n",
      "  self.bias = self.add_variable(\n",
      "2022-08-01 16:04:35.542443: I tensorflow/core/common_runtime/gpu/gpu_device.cc:1525] Created device /job:localhost/replica:0/task:0/device:GPU:0 with 5633 MB memory:  -> device: 0, name: NVIDIA GeForce RTX 3070, pci bus id: 0000:01:00.0, compute capability: 8.6\n",
      "2022-08-01 16:04:35.542646: I tensorflow/core/common_runtime/gpu/gpu_device.cc:1525] Created device /job:localhost/replica:0/task:0/device:GPU:1 with 6114 MB memory:  -> device: 1, name: NVIDIA GeForce RTX 3070, pci bus id: 0000:04:00.0, compute capability: 8.6\n"
     ]
    },
    {
     "name": "stdout",
     "output_type": "stream",
     "text": [
      "INFO:tensorflow:loss = 38.00202, step = 200000 (923.090 sec)\n",
      "INFO:tensorflow:Calling checkpoint listeners before saving checkpoint 300000...\n",
      "INFO:tensorflow:Saving checkpoints for 300000 into /tmp/tmpelq7y_mc/model.ckpt.\n",
      "INFO:tensorflow:Calling checkpoint listeners after saving checkpoint 300000...\n",
      "INFO:tensorflow:global_step/sec: 91.7793\n"
     ]
    },
    {
     "name": "stderr",
     "output_type": "stream",
     "text": [
      "/home/shiv/anaconda3/envs/RecSys_39/lib/python3.9/site-packages/tensorflow_estimator/python/estimator/canned/linear.py:1468: UserWarning: `layer.add_variable` is deprecated and will be removed in a future version. Please use `layer.add_weight` method instead.\n",
      "  self.bias = self.add_variable(\n",
      "2022-08-01 16:22:45.067243: I tensorflow/core/common_runtime/gpu/gpu_device.cc:1525] Created device /job:localhost/replica:0/task:0/device:GPU:0 with 5633 MB memory:  -> device: 0, name: NVIDIA GeForce RTX 3070, pci bus id: 0000:01:00.0, compute capability: 8.6\n",
      "2022-08-01 16:22:45.067446: I tensorflow/core/common_runtime/gpu/gpu_device.cc:1525] Created device /job:localhost/replica:0/task:0/device:GPU:1 with 6114 MB memory:  -> device: 1, name: NVIDIA GeForce RTX 3070, pci bus id: 0000:04:00.0, compute capability: 8.6\n"
     ]
    },
    {
     "name": "stdout",
     "output_type": "stream",
     "text": [
      "INFO:tensorflow:loss = 44.724503, step = 300000 (1087.890 sec)\n",
      "INFO:tensorflow:Calling checkpoint listeners before saving checkpoint 400000...\n",
      "INFO:tensorflow:Saving checkpoints for 400000 into /tmp/tmpelq7y_mc/model.ckpt.\n",
      "INFO:tensorflow:Calling checkpoint listeners after saving checkpoint 400000...\n",
      "INFO:tensorflow:global_step/sec: 115.27\n"
     ]
    },
    {
     "name": "stderr",
     "output_type": "stream",
     "text": [
      "/home/shiv/anaconda3/envs/RecSys_39/lib/python3.9/site-packages/tensorflow_estimator/python/estimator/canned/linear.py:1468: UserWarning: `layer.add_variable` is deprecated and will be removed in a future version. Please use `layer.add_weight` method instead.\n",
      "  self.bias = self.add_variable(\n",
      "2022-08-01 16:37:12.703774: I tensorflow/core/common_runtime/gpu/gpu_device.cc:1525] Created device /job:localhost/replica:0/task:0/device:GPU:0 with 5633 MB memory:  -> device: 0, name: NVIDIA GeForce RTX 3070, pci bus id: 0000:01:00.0, compute capability: 8.6\n",
      "2022-08-01 16:37:12.703974: I tensorflow/core/common_runtime/gpu/gpu_device.cc:1525] Created device /job:localhost/replica:0/task:0/device:GPU:1 with 6114 MB memory:  -> device: 1, name: NVIDIA GeForce RTX 3070, pci bus id: 0000:04:00.0, compute capability: 8.6\n"
     ]
    },
    {
     "name": "stdout",
     "output_type": "stream",
     "text": [
      "INFO:tensorflow:loss = 58.78936, step = 400000 (866.390 sec)\n",
      "INFO:tensorflow:Calling checkpoint listeners before saving checkpoint 500000...\n",
      "INFO:tensorflow:Saving checkpoints for 500000 into /tmp/tmpelq7y_mc/model.ckpt.\n",
      "WARNING:tensorflow:From /home/shiv/anaconda3/envs/RecSys_39/lib/python3.9/site-packages/tensorflow/python/training/saver.py:1052: remove_checkpoint (from tensorflow.python.training.checkpoint_management) is deprecated and will be removed in a future version.\n",
      "Instructions for updating:\n",
      "Use standard file APIs to delete files with this prefix.\n",
      "INFO:tensorflow:Calling checkpoint listeners after saving checkpoint 500000...\n",
      "INFO:tensorflow:global_step/sec: 90.8427\n"
     ]
    },
    {
     "name": "stderr",
     "output_type": "stream",
     "text": [
      "/home/shiv/anaconda3/envs/RecSys_39/lib/python3.9/site-packages/tensorflow_estimator/python/estimator/canned/linear.py:1468: UserWarning: `layer.add_variable` is deprecated and will be removed in a future version. Please use `layer.add_weight` method instead.\n",
      "  self.bias = self.add_variable(\n",
      "2022-08-01 16:55:33.376569: I tensorflow/core/common_runtime/gpu/gpu_device.cc:1525] Created device /job:localhost/replica:0/task:0/device:GPU:0 with 5633 MB memory:  -> device: 0, name: NVIDIA GeForce RTX 3070, pci bus id: 0000:01:00.0, compute capability: 8.6\n",
      "2022-08-01 16:55:33.376775: I tensorflow/core/common_runtime/gpu/gpu_device.cc:1525] Created device /job:localhost/replica:0/task:0/device:GPU:1 with 6114 MB memory:  -> device: 1, name: NVIDIA GeForce RTX 3070, pci bus id: 0000:04:00.0, compute capability: 8.6\n"
     ]
    },
    {
     "name": "stdout",
     "output_type": "stream",
     "text": [
      "INFO:tensorflow:loss = 20.139492, step = 500000 (1103.844 sec)\n",
      "INFO:tensorflow:Calling checkpoint listeners before saving checkpoint 600000...\n",
      "INFO:tensorflow:Saving checkpoints for 600000 into /tmp/tmpelq7y_mc/model.ckpt.\n",
      "INFO:tensorflow:Calling checkpoint listeners after saving checkpoint 600000...\n",
      "INFO:tensorflow:global_step/sec: 91.7013\n"
     ]
    },
    {
     "name": "stderr",
     "output_type": "stream",
     "text": [
      "/home/shiv/anaconda3/envs/RecSys_39/lib/python3.9/site-packages/tensorflow_estimator/python/estimator/canned/linear.py:1468: UserWarning: `layer.add_variable` is deprecated and will be removed in a future version. Please use `layer.add_weight` method instead.\n",
      "  self.bias = self.add_variable(\n",
      "2022-08-01 17:13:43.887768: I tensorflow/core/common_runtime/gpu/gpu_device.cc:1525] Created device /job:localhost/replica:0/task:0/device:GPU:0 with 5633 MB memory:  -> device: 0, name: NVIDIA GeForce RTX 3070, pci bus id: 0000:01:00.0, compute capability: 8.6\n",
      "2022-08-01 17:13:43.887969: I tensorflow/core/common_runtime/gpu/gpu_device.cc:1525] Created device /job:localhost/replica:0/task:0/device:GPU:1 with 6114 MB memory:  -> device: 1, name: NVIDIA GeForce RTX 3070, pci bus id: 0000:04:00.0, compute capability: 8.6\n"
     ]
    },
    {
     "name": "stdout",
     "output_type": "stream",
     "text": [
      "INFO:tensorflow:loss = 27.898827, step = 600000 (1089.256 sec)\n",
      "INFO:tensorflow:Calling checkpoint listeners before saving checkpoint 700000...\n",
      "INFO:tensorflow:Saving checkpoints for 700000 into /tmp/tmpelq7y_mc/model.ckpt.\n",
      "INFO:tensorflow:Calling checkpoint listeners after saving checkpoint 700000...\n",
      "INFO:tensorflow:global_step/sec: 91.3655\n"
     ]
    },
    {
     "name": "stderr",
     "output_type": "stream",
     "text": [
      "/home/shiv/anaconda3/envs/RecSys_39/lib/python3.9/site-packages/tensorflow_estimator/python/estimator/canned/linear.py:1468: UserWarning: `layer.add_variable` is deprecated and will be removed in a future version. Please use `layer.add_weight` method instead.\n",
      "  self.bias = self.add_variable(\n",
      "2022-08-01 17:31:58.825113: I tensorflow/core/common_runtime/gpu/gpu_device.cc:1525] Created device /job:localhost/replica:0/task:0/device:GPU:0 with 5633 MB memory:  -> device: 0, name: NVIDIA GeForce RTX 3070, pci bus id: 0000:01:00.0, compute capability: 8.6\n",
      "2022-08-01 17:31:58.825296: I tensorflow/core/common_runtime/gpu/gpu_device.cc:1525] Created device /job:localhost/replica:0/task:0/device:GPU:1 with 6114 MB memory:  -> device: 1, name: NVIDIA GeForce RTX 3070, pci bus id: 0000:04:00.0, compute capability: 8.6\n"
     ]
    },
    {
     "name": "stdout",
     "output_type": "stream",
     "text": [
      "INFO:tensorflow:loss = 28.18411, step = 700000 (1095.600 sec)\n",
      "INFO:tensorflow:Calling checkpoint listeners before saving checkpoint 800000...\n",
      "INFO:tensorflow:Saving checkpoints for 800000 into /tmp/tmpelq7y_mc/model.ckpt.\n",
      "INFO:tensorflow:Calling checkpoint listeners after saving checkpoint 800000...\n",
      "INFO:tensorflow:global_step/sec: 98.5087\n"
     ]
    },
    {
     "name": "stderr",
     "output_type": "stream",
     "text": [
      "/home/shiv/anaconda3/envs/RecSys_39/lib/python3.9/site-packages/tensorflow_estimator/python/estimator/canned/linear.py:1468: UserWarning: `layer.add_variable` is deprecated and will be removed in a future version. Please use `layer.add_weight` method instead.\n",
      "  self.bias = self.add_variable(\n",
      "2022-08-01 17:48:53.846314: I tensorflow/core/common_runtime/gpu/gpu_device.cc:1525] Created device /job:localhost/replica:0/task:0/device:GPU:0 with 5633 MB memory:  -> device: 0, name: NVIDIA GeForce RTX 3070, pci bus id: 0000:01:00.0, compute capability: 8.6\n",
      "2022-08-01 17:48:53.846524: I tensorflow/core/common_runtime/gpu/gpu_device.cc:1525] Created device /job:localhost/replica:0/task:0/device:GPU:1 with 6114 MB memory:  -> device: 1, name: NVIDIA GeForce RTX 3070, pci bus id: 0000:04:00.0, compute capability: 8.6\n"
     ]
    },
    {
     "name": "stdout",
     "output_type": "stream",
     "text": [
      "INFO:tensorflow:loss = 27.919865, step = 800000 (1012.857 sec)\n",
      "INFO:tensorflow:Calling checkpoint listeners before saving checkpoint 900000...\n",
      "INFO:tensorflow:Saving checkpoints for 900000 into /tmp/tmpelq7y_mc/model.ckpt.\n",
      "INFO:tensorflow:Calling checkpoint listeners after saving checkpoint 900000...\n",
      "INFO:tensorflow:global_step/sec: 105.89\n"
     ]
    },
    {
     "name": "stderr",
     "output_type": "stream",
     "text": [
      "/home/shiv/anaconda3/envs/RecSys_39/lib/python3.9/site-packages/tensorflow_estimator/python/estimator/canned/linear.py:1468: UserWarning: `layer.add_variable` is deprecated and will be removed in a future version. Please use `layer.add_weight` method instead.\n",
      "  self.bias = self.add_variable(\n",
      "2022-08-01 18:04:37.905820: I tensorflow/core/common_runtime/gpu/gpu_device.cc:1525] Created device /job:localhost/replica:0/task:0/device:GPU:0 with 5633 MB memory:  -> device: 0, name: NVIDIA GeForce RTX 3070, pci bus id: 0000:01:00.0, compute capability: 8.6\n",
      "2022-08-01 18:04:37.906021: I tensorflow/core/common_runtime/gpu/gpu_device.cc:1525] Created device /job:localhost/replica:0/task:0/device:GPU:1 with 6114 MB memory:  -> device: 1, name: NVIDIA GeForce RTX 3070, pci bus id: 0000:04:00.0, compute capability: 8.6\n"
     ]
    },
    {
     "name": "stdout",
     "output_type": "stream",
     "text": [
      "INFO:tensorflow:loss = 16.981068, step = 900000 (938.420 sec)\n",
      "INFO:tensorflow:Calling checkpoint listeners before saving checkpoint 1000000...\n",
      "INFO:tensorflow:Saving checkpoints for 1000000 into /tmp/tmpelq7y_mc/model.ckpt.\n",
      "INFO:tensorflow:Calling checkpoint listeners after saving checkpoint 1000000...\n",
      "INFO:tensorflow:Loss for final step: 25.884441.\n"
     ]
    }
   ],
   "source": [
    "print(\n",
    "    \"Training steps = {}, Batch size = {} (num epochs = {})\"\n",
    "    .format(STEPS, BATCH_SIZE, (STEPS*BATCH_SIZE)//len(train))\n",
    ")\n",
    "tf.compat.v1.logging.set_verbosity(tf.compat.v1.logging.INFO)\n",
    "\n",
    "try:\n",
    "    model.train(\n",
    "        input_fn=train_fn,\n",
    "        hooks=hooks,\n",
    "        steps=STEPS\n",
    "    )\n",
    "except tf.compat.v1.train.NanLossDuringTrainingError:\n",
    "    import warnings\n",
    "    warnings.warn(\n",
    "        \"Training stopped with NanLossDuringTrainingError. \"\n",
    "        \"Try other optimizers, smaller batch size and/or smaller learning rate.\"\n",
    "    )"
   ]
  },
  {
   "cell_type": "code",
   "execution_count": 19,
   "metadata": {},
   "outputs": [
    {
     "data": {
      "text/plain": [
       "{'rmse': [4.560691371843296,\n",
       "  1.097325716796562,\n",
       "  1.0777041280600417,\n",
       "  1.0702420787639841,\n",
       "  1.0652975836798118,\n",
       "  1.063317462395253,\n",
       "  1.060942881146609,\n",
       "  1.059553989867443,\n",
       "  1.0584321014068874,\n",
       "  1.057801120217181],\n",
       " 'mae': [4.414920451895229,\n",
       "  0.8618665845426546,\n",
       "  0.8118637643674194,\n",
       "  0.7971600603018356,\n",
       "  0.7828303697282187,\n",
       "  0.7874117839124775,\n",
       "  0.7746461160293763,\n",
       "  0.7682480634140209,\n",
       "  0.7663158783404408,\n",
       "  0.7638086217996314]}"
      ]
     },
     "execution_count": 19,
     "metadata": {},
     "output_type": "execute_result"
    }
   ],
   "source": [
    "logs = evaluation_logger.get_log()\n",
    "logs"
   ]
  },
  {
   "cell_type": "code",
   "execution_count": 20,
   "metadata": {},
   "outputs": [
    {
     "data": {
      "application/scrapbook.scrap.json+json": {
       "data": [
        4.560691371843296,
        1.097325716796562,
        1.0777041280600417,
        1.0702420787639841,
        1.0652975836798118,
        1.063317462395253,
        1.060942881146609,
        1.059553989867443,
        1.0584321014068874,
        1.057801120217181
       ],
       "encoder": "json",
       "name": "eval_rmse",
       "version": 1
      }
     },
     "metadata": {
      "scrapbook": {
       "data": true,
       "display": false,
       "name": "eval_rmse"
      }
     },
     "output_type": "display_data"
    },
    {
     "data": {
      "application/scrapbook.scrap.json+json": {
       "data": [
        4.414920451895229,
        0.8618665845426546,
        0.8118637643674194,
        0.7971600603018356,
        0.7828303697282187,
        0.7874117839124775,
        0.7746461160293763,
        0.7682480634140209,
        0.7663158783404408,
        0.7638086217996314
       ],
       "encoder": "json",
       "name": "eval_mae",
       "version": 1
      }
     },
     "metadata": {
      "scrapbook": {
       "data": true,
       "display": false,
       "name": "eval_mae"
      }
     },
     "output_type": "display_data"
    },
    {
     "data": {
      "image/png": "[encoded data removed]",
      "text/plain": [
       "<Figure size 720x360 with 2 Axes>"
      ]
     },
     "metadata": {
      "needs_background": "light"
     },
     "output_type": "display_data"
    }
   ],
   "source": [
    "import scrapbook as sb\n",
    "if EVALUATE_WHILE_TRAINING:\n",
    "    logs = evaluation_logger.get_log()\n",
    "    for i, (m, v) in enumerate(logs.items(), 1):\n",
    "        sb.glue(\"eval_{}\".format(m), v)\n",
    "        x = [save_checkpoints_steps*i for i in range(1, len(v)+1)]\n",
    "        plot.line_graph(\n",
    "            values=list(zip(v, x)),\n",
    "            labels=m,\n",
    "            x_name=\"steps\",\n",
    "            y_name=m,\n",
    "            subplot=(math.ceil(len(logs)/2), 2, i),\n",
    "        )"
   ]
  },
  {
   "cell_type": "markdown",
   "metadata": {},
   "source": [
    "#### 3.2 TensorBoard\n",
    "\n",
    "Once the train is done, you can browse the details of the training results as well as the metrics we logged from [TensorBoard](https://www.tensorflow.org/guide/summaries_and_tensorboard).\n",
    "\n",
    "[]()|[]()|[]()\n",
    ":---:|:---:|:---:\n",
    "<img src=\"https://recodatasets.z20.web.core.windows.net/images/tensorboard_0.png?sanitize=true\"> |  <img src=\"https://recodatasets.z20.web.core.windows.net/images/tensorboard_1.png?sanitize=true\"> | <img src=\"https://recodatasets.z20.web.core.windows.net/images/tensorboard_2.png?sanitize=true\">\n",
    "\n",
    "To open the TensorBoard, open a terminal from the same directory of this notebook, run `tensorboard --logdir=model_checkpoints`, and open http://localhost:6006 from a browser.\n",
    "\n"
   ]
  },
  {
   "cell_type": "markdown",
   "metadata": {},
   "source": [
    "### 4. Test and Export Model\n",
    "\n",
    "#### 4.1 Item rating prediction"
   ]
  },
  {
   "cell_type": "code",
   "execution_count": 21,
   "metadata": {},
   "outputs": [
    {
     "name": "stdout",
     "output_type": "stream",
     "text": [
      "INFO:tensorflow:Calling model_fn.\n"
     ]
    },
    {
     "name": "stderr",
     "output_type": "stream",
     "text": [
      "/home/shiv/anaconda3/envs/RecSys_39/lib/python3.9/site-packages/tensorflow_estimator/python/estimator/canned/linear.py:1468: UserWarning: `layer.add_variable` is deprecated and will be removed in a future version. Please use `layer.add_weight` method instead.\n",
      "  self.bias = self.add_variable(\n"
     ]
    },
    {
     "name": "stdout",
     "output_type": "stream",
     "text": [
      "INFO:tensorflow:Done calling model_fn.\n",
      "INFO:tensorflow:Graph was finalized.\n",
      "INFO:tensorflow:Restoring parameters from /tmp/tmpelq7y_mc/model.ckpt-1000000\n",
      "INFO:tensorflow:Running local_init_op.\n"
     ]
    },
    {
     "name": "stderr",
     "output_type": "stream",
     "text": [
      "2022-08-01 18:23:04.436751: I tensorflow/core/common_runtime/gpu/gpu_device.cc:1525] Created device /job:localhost/replica:0/task:0/device:GPU:0 with 5633 MB memory:  -> device: 0, name: NVIDIA GeForce RTX 3070, pci bus id: 0000:01:00.0, compute capability: 8.6\n",
      "2022-08-01 18:23:04.436942: I tensorflow/core/common_runtime/gpu/gpu_device.cc:1525] Created device /job:localhost/replica:0/task:0/device:GPU:1 with 6114 MB memory:  -> device: 1, name: NVIDIA GeForce RTX 3070, pci bus id: 0000:04:00.0, compute capability: 8.6\n"
     ]
    },
    {
     "name": "stdout",
     "output_type": "stream",
     "text": [
      "INFO:tensorflow:Done running local_init_op.\n"
     ]
    },
    {
     "data": {
      "application/scrapbook.scrap.json+json": {
       "data": 1.0574871868401199,
       "encoder": "json",
       "name": "rmse",
       "version": 1
      }
     },
     "metadata": {
      "scrapbook": {
       "data": true,
       "display": false,
       "name": "rmse"
      }
     },
     "output_type": "display_data"
    },
    {
     "data": {
      "application/scrapbook.scrap.json+json": {
       "data": 0.7618798790135353,
       "encoder": "json",
       "name": "mae",
       "version": 1
      }
     },
     "metadata": {
      "scrapbook": {
       "data": true,
       "display": false,
       "name": "mae"
      }
     },
     "output_type": "display_data"
    },
    {
     "name": "stdout",
     "output_type": "stream",
     "text": [
      "{'rmse': 1.0574871868401199, 'mae': 0.7618798790135353}\n"
     ]
    }
   ],
   "source": [
    "if len(RATING_METRICS) > 0:\n",
    "    predictions = list(model.predict(input_fn=tf_utils.pandas_input_fn(df=test)))\n",
    "    prediction_df = test.drop(RATING_COL, axis=1)\n",
    "    prediction_df[PREDICT_COL] = [p['predictions'][0] for p in predictions]\n",
    "    \n",
    "    rating_results = {}\n",
    "    for m in RATING_METRICS:\n",
    "        result = evaluator.metrics[m](test, prediction_df, **cols)\n",
    "        sb.glue(m, result)\n",
    "        rating_results[m] = result\n",
    "    print(rating_results)"
   ]
  },
  {
   "cell_type": "markdown",
   "metadata": {},
   "source": [
    "#### 4.2 Recommend k items\n",
    "For top-k recommendation evaluation, we use the ranking pool (all the user-item pairs) we prepared at the [training step](#ranking-pool). \n",
    "\n",
    "The difference is we remove users' seen items from the pool in this step which is more natural to the movie recommendation scenario.\n",
    "\n",
    "### Notes:\n",
    "- We cannot run this step as we do not have a ranking pool.\n",
    "- Jump to the [model serving step](#model_serving) to calculate ranking metric when we cannot build a ranking pool."
   ]
  },
  {
   "cell_type": "code",
   "execution_count": 22,
   "metadata": {},
   "outputs": [],
   "source": [
    "ranking_pool = None\n",
    "\n",
    "if ranking_pool is not None and len(RANKING_METRICS) > 0:\n",
    "    predictions = list(model.predict(input_fn=tf_utils.pandas_input_fn(df=ranking_pool)))\n",
    "    prediction_df = ranking_pool.copy()\n",
    "    prediction_df[PREDICT_COL] = [p['predictions'][0] for p in predictions]\n",
    "\n",
    "    ranking_results = {}\n",
    "    for m in RANKING_METRICS:\n",
    "        result = evaluator.metrics[m](test, prediction_df, **{**cols, 'k': TOP_K}) # TOP_K = 10\n",
    "        sb.glue(m, result)\n",
    "        ranking_results[m] = result\n",
    "    print(ranking_results)"
   ]
  },
  {
   "cell_type": "markdown",
   "metadata": {},
   "source": [
    "#### 4.3 Export Model\n",
    "Finally, we export the model so that we can load later for re-training, evaluation, and prediction.\n",
    "Examples of how to load, re-train, and evaluate the saved model can be found from [azureml_hyperdrive_wide_and_deep.ipynb](../04_model_select_and_optimize/azureml_hyperdrive_wide_and_deep.ipynb) notebook."
   ]
  },
  {
   "cell_type": "code",
   "execution_count": 23,
   "metadata": {},
   "outputs": [],
   "source": [
    "os.makedirs(EXPORT_DIR_BASE, exist_ok=True)"
   ]
  },
  {
   "cell_type": "code",
   "execution_count": 24,
   "metadata": {
    "scrolled": true
   },
   "outputs": [
    {
     "name": "stderr",
     "output_type": "stream",
     "text": [
      "/home/shiv/anaconda3/envs/RecSys_39/lib/python3.9/site-packages/tensorflow_estimator/python/estimator/canned/linear.py:1468: UserWarning: `layer.add_variable` is deprecated and will be removed in a future version. Please use `layer.add_weight` method instead.\n",
      "  self.bias = self.add_variable(\n",
      "2022-08-01 18:25:26.877366: I tensorflow/core/common_runtime/gpu/gpu_device.cc:1525] Created device /job:localhost/replica:0/task:0/device:GPU:0 with 5633 MB memory:  -> device: 0, name: NVIDIA GeForce RTX 3070, pci bus id: 0000:01:00.0, compute capability: 8.6\n",
      "2022-08-01 18:25:26.877560: I tensorflow/core/common_runtime/gpu/gpu_device.cc:1525] Created device /job:localhost/replica:0/task:0/device:GPU:1 with 6114 MB memory:  -> device: 1, name: NVIDIA GeForce RTX 3070, pci bus id: 0000:04:00.0, compute capability: 8.6\n",
      "2022-08-01 18:25:29.761346: I tensorflow/core/common_runtime/gpu/gpu_device.cc:1525] Created device /job:localhost/replica:0/task:0/device:GPU:0 with 5633 MB memory:  -> device: 0, name: NVIDIA GeForce RTX 3070, pci bus id: 0000:01:00.0, compute capability: 8.6\n",
      "2022-08-01 18:25:29.761591: I tensorflow/core/common_runtime/gpu/gpu_device.cc:1525] Created device /job:localhost/replica:0/task:0/device:GPU:1 with 6114 MB memory:  -> device: 1, name: NVIDIA GeForce RTX 3070, pci bus id: 0000:04:00.0, compute capability: 8.6\n",
      "2022-08-01 18:25:32.300040: I tensorflow/core/common_runtime/gpu/gpu_device.cc:1525] Created device /job:localhost/replica:0/task:0/device:GPU:0 with 5633 MB memory:  -> device: 0, name: NVIDIA GeForce RTX 3070, pci bus id: 0000:01:00.0, compute capability: 8.6\n",
      "2022-08-01 18:25:32.300224: I tensorflow/core/common_runtime/gpu/gpu_device.cc:1525] Created device /job:localhost/replica:0/task:0/device:GPU:1 with 6114 MB memory:  -> device: 1, name: NVIDIA GeForce RTX 3070, pci bus id: 0000:04:00.0, compute capability: 8.6\n"
     ]
    },
    {
     "data": {
      "application/scrapbook.scrap.text+json": {
       "data": "./outputs/model/1659403524",
       "encoder": "text",
       "name": "saved_model_dir",
       "version": 1
      }
     },
     "metadata": {
      "scrapbook": {
       "data": true,
       "display": false,
       "name": "saved_model_dir"
      }
     },
     "output_type": "display_data"
    },
    {
     "name": "stdout",
     "output_type": "stream",
     "text": [
      "Model exported to ./outputs/model/1659403524\n"
     ]
    }
   ],
   "source": [
    "exported_path = tf_utils.export_model(\n",
    "    model=model,\n",
    "    train_input_fn=train_fn,\n",
    "    eval_input_fn=tf_utils.pandas_input_fn(\n",
    "        df=test, y_col=RATING_COL\n",
    "    ),\n",
    "    tf_feat_cols=wide_columns+deep_columns,\n",
    "    base_dir=EXPORT_DIR_BASE\n",
    ")\n",
    "sb.glue('saved_model_dir', str(exported_path))\n",
    "print(\"Model exported to\", str(exported_path))"
   ]
  },
  {
   "cell_type": "code",
   "execution_count": 25,
   "metadata": {},
   "outputs": [],
   "source": [
    "# Close the event file so that the model folder can be cleaned up.\n",
    "summary_writer = tf.compat.v1.summary.FileWriterCache.get(model.model_dir)\n",
    "summary_writer.close()\n",
    "\n",
    "# Cleanup temporary directory if used\n",
    "if TMP_DIR is not None:\n",
    "    TMP_DIR.cleanup()"
   ]
  },
  {
   "cell_type": "markdown",
   "metadata": {},
   "source": [
    "<a id=\"model_serving\"></a>\n",
    "# Model Serving\n",
    "\n",
    "- If running test set's rating, must restart the kernel and disable GPU\n",
    "- If running ranking, then no need to restart, but a restart does no harm.\n",
    "- Run the notebook till the generation of [users, items dataframes](#users_items) and jump to this cell."
   ]
  },
  {
   "cell_type": "code",
   "execution_count": 11,
   "metadata": {},
   "outputs": [],
   "source": [
    "cols = {\n",
    "    'col_user': USER_COL,\n",
    "    'col_item': ITEM_COL,\n",
    "    'col_rating': RATING_COL,\n",
    "    'col_prediction': 'prediction'\n",
    "}\n",
    "\n",
    "tf.compat.v1.logging.set_verbosity(tf.compat.v1.logging.ERROR)"
   ]
  },
  {
   "cell_type": "code",
   "execution_count": 12,
   "metadata": {},
   "outputs": [
    {
     "name": "stderr",
     "output_type": "stream",
     "text": [
      "2022-08-01 18:39:44.550481: I tensorflow/core/platform/cpu_feature_guard.cc:151] This TensorFlow binary is optimized with oneAPI Deep Neural Network Library (oneDNN) to use the following CPU instructions in performance-critical operations:  AVX2 FMA\n",
      "To enable them in other operations, rebuild TensorFlow with the appropriate compiler flags.\n",
      "2022-08-01 18:39:45.021353: I tensorflow/core/common_runtime/gpu/gpu_device.cc:1525] Created device /job:localhost/replica:0/task:0/device:GPU:0 with 5672 MB memory:  -> device: 0, name: NVIDIA GeForce RTX 3070, pci bus id: 0000:01:00.0, compute capability: 8.6\n",
      "2022-08-01 18:39:45.021882: I tensorflow/core/common_runtime/gpu/gpu_device.cc:1525] Created device /job:localhost/replica:0/task:0/device:GPU:1 with 6114 MB memory:  -> device: 1, name: NVIDIA GeForce RTX 3070, pci bus id: 0000:04:00.0, compute capability: 8.6\n"
     ]
    }
   ],
   "source": [
    "MODEL_DIR = './outputs/model/1659403524'\n",
    "\n",
    "saved_model = tf.saved_model.load(MODEL_DIR, tags=\"serve\")"
   ]
  },
  {
   "cell_type": "markdown",
   "metadata": {},
   "source": [
    "# Rating metrics (rmse, mae) on test set (won't run on GPU)\n",
    "\n",
    "- Must run on CPU as it will try to create a 3.5Mx512 byte array on GPU running out of memory."
   ]
  },
  {
   "cell_type": "code",
   "execution_count": null,
   "metadata": {
    "scrolled": true
   },
   "outputs": [],
   "source": [
    "# Make sure you run this cell on CPU\n",
    "X_test = test.drop(RATING_COL, axis=1)\n",
    "X_test.reset_index(drop=True, inplace=True)\n",
    "\n",
    "# Rating prediction\n",
    "predictions = saved_model.signatures[\"predict\"](\n",
    "        examples=tf_utils.pandas_input_fn_for_saved_model(\n",
    "            df=X_test,\n",
    "            feat_name_type={\n",
    "                USER_COL: int,\n",
    "                ITEM_COL: int,\n",
    "                ITEM_FEAT_COL: list\n",
    "            }\n",
    "        )()[\"inputs\"]\n",
    "    )\n",
    "\n",
    "prediction_df = X_test.copy()\n",
    "# prediction_df['prediction'] = [p['outputs'][0] for p in predictions]\n",
    "prediction_df['prediction'] = predictions['predictions'].numpy()\n",
    "print(prediction_df['prediction'].describe(), \"\\n\")\n",
    "for m in RATING_METRICS:\n",
    "    result = evaluator.metrics[m](test, prediction_df, **cols)\n",
    "    print(m, \"=\", result)"
   ]
  },
  {
   "cell_type": "markdown",
   "metadata": {},
   "source": [
    "# Ranking metrics (ndcg@k, precision@k)\n",
    "\n",
    "- Can run on GPU  but it is slow (proportional to the number of users)"
   ]
  },
  {
   "cell_type": "code",
   "execution_count": 13,
   "metadata": {},
   "outputs": [],
   "source": [
    "def ndcg_at_k_one_user(rating_true, rating_pred,\n",
    "                       col_user=USER_COL, col_item=ITEM_COL, col_rating=RATING_COL,\n",
    "                       col_prediction=PREDICT_COL, relevancy_method=\"top_k\", k=DEFAULT_K,\n",
    "                       threshold=DEFAULT_THRESHOLD):\n",
    "    df_hit, df_hit_count, n_users = evaluator.merge_ranking_true_pred(\n",
    "        rating_true=rating_true,\n",
    "        rating_pred=rating_pred,\n",
    "        col_user=col_user,\n",
    "        col_item=col_item,\n",
    "        col_rating=col_rating,\n",
    "        col_prediction=col_prediction,\n",
    "        relevancy_method=relevancy_method,\n",
    "        k=k,\n",
    "        threshold=threshold,\n",
    "    )\n",
    "    assert(n_users==1)\n",
    "    return df_hit, df_hit_count"
   ]
  },
  {
   "cell_type": "code",
   "execution_count": 14,
   "metadata": {},
   "outputs": [],
   "source": [
    "# must ignore items already seen (makes sense for movies but Amazon products???)\n",
    "all_items_set = set(items[ITEM_COL].values)\n",
    "\n",
    "# no point of running ranking if a userID is not present in test\n",
    "all_users_test = set(test[USER_COL].values)"
   ]
  },
  {
   "cell_type": "code",
   "execution_count": 16,
   "metadata": {},
   "outputs": [
    {
     "name": "stderr",
     "output_type": "stream",
     "text": [
      "  0%|                                                                                            | 646/830668 [00:01<25:47, 536.24it/s]2022-08-01 18:45:24.373170: I tensorflow/stream_executor/cuda/cuda_blas.cc:1786] TensorFloat-32 will be used for the matrix multiplication. This will only be logged once.\n",
      "100%|█████████████████████████████████████████████████████████████████████████████████████████| 830668/830668 [24:21<00:00, 568.36it/s]\n"
     ]
    }
   ],
   "source": [
    "from tqdm import tqdm\n",
    "\n",
    "df_hit_master = pd.DataFrame(columns=[USER_COL, ITEM_COL, \"rank\"])\n",
    "df_hit_count_master = pd.DataFrame(columns=[USER_COL, \"hit\", \"actual\"])\n",
    "\n",
    "num_users = 0\n",
    "k = 10000 # something big to test without training the model for a very long time!\n",
    "\n",
    "for user in (pbar := tqdm(users[USER_COL])): # requires Python 3.8 walrus operator\n",
    "    if user not in all_users_test:\n",
    "        continue\n",
    "    # print(user)\n",
    "    \n",
    "    tmp_df = train[train[USER_COL]==user]  # remove seen items\n",
    "    items_rated = tmp_df[ITEM_COL].values\n",
    "    items_rated_set = set(items_rated)\n",
    "    if len(items_rated_set) < 100: # only include users who have rated at least 100 items\n",
    "        continue\n",
    "    \n",
    "    items_not_seen = all_items_set - items_rated_set\n",
    "    lst_items_not_seen = list(items_not_seen)\n",
    "    \n",
    "    len_lst = len(lst_items_not_seen)\n",
    "    tmp_df = items[items[ITEM_COL].isin(lst_items_not_seen)]\n",
    "    test_dict = {USER_COL:[user]*len_lst,\n",
    "                 ITEM_COL:lst_items_not_seen,\n",
    "                 ITEM_FEAT_COL:tmp_df[ITEM_FEAT_COL].values}\n",
    "    # print(len(items_rated_set), len(items_not_seen))\n",
    "\n",
    "    X_test = pd.DataFrame(test_dict)\n",
    "    # Rating prediction\n",
    "    predictions = saved_model.signatures[\"predict\"](\n",
    "            examples=tf_utils.pandas_input_fn_for_saved_model(\n",
    "                df=X_test,\n",
    "                feat_name_type={\n",
    "                    USER_COL: int,\n",
    "                    ITEM_COL: int,\n",
    "                    ITEM_FEAT_COL: list\n",
    "                }\n",
    "            )()[\"inputs\"]\n",
    "        )\n",
    "\n",
    "    prediction_df = X_test.copy()\n",
    "    # prediction_df['prediction'] = [p['outputs'][0] for p in predictions]\n",
    "    prediction_df['prediction'] = predictions['predictions'].numpy()\n",
    "    \n",
    "    df_hit_user, df_hit_count_user = ndcg_at_k_one_user(test, prediction_df, k=k)\n",
    "    df_hit_master = pd.concat([df_hit_master, df_hit_user])\n",
    "    df_hit_count_master = pd.concat([df_hit_count_master, df_hit_count_user])\n",
    "    \n",
    "    num_users += 1\n",
    "    pbar.set_description(f'#users {num_users}')"
   ]
  },
  {
   "cell_type": "markdown",
   "metadata": {},
   "source": [
    "## ndcg@k, precision@k"
   ]
  },
  {
   "cell_type": "code",
   "execution_count": 18,
   "metadata": {},
   "outputs": [
    {
     "data": {
      "text/plain": [
       "0.0719124581920513"
      ]
     },
     "execution_count": 18,
     "metadata": {},
     "output_type": "execute_result"
    }
   ],
   "source": [
    "n_users = num_users\n",
    "\n",
    "# calculate discounted gain for hit items\n",
    "df_dcg = df_hit_master.copy()\n",
    "# relevance in this case is always 1\n",
    "df_dcg[\"dcg\"] = 1 / np.log1p(df_dcg[\"rank\"].astype('float32'))\n",
    "# sum up discount gained to get discount cumulative gain\n",
    "df_dcg = df_dcg.groupby(USER_COL, as_index=False, sort=False).agg({\"dcg\": \"sum\"})\n",
    "\n",
    "# calculate ideal discounted cumulative gain\n",
    "df_ndcg = pd.merge(df_dcg, df_hit_count_master, on=[USER_COL])\n",
    "df_ndcg[\"idcg\"] = df_ndcg[\"actual\"].apply(\n",
    "    lambda x: sum(1 / np.log1p(range(1, min(x, k) + 1)))\n",
    ")\n",
    "\n",
    "# DCG over IDCG is the normalized DCG\n",
    "(df_ndcg[\"dcg\"] / df_ndcg[\"idcg\"]).sum() / n_users"
   ]
  },
  {
   "cell_type": "code",
   "execution_count": 19,
   "metadata": {},
   "outputs": [
    {
     "data": {
      "text/plain": [
       "0.0009674418604651162"
      ]
     },
     "execution_count": 19,
     "metadata": {},
     "output_type": "execute_result"
    }
   ],
   "source": [
    "# Precision @ k\n",
    "(df_hit_count_master[\"hit\"] / k).sum() / n_users"
   ]
  }
 ],
 "metadata": {
  "interpreter": {
   "hash": "3a9a0c422ff9f08d62211b9648017c63b0a26d2c935edc37ebb8453675d13bb5"
  },
  "kernelspec": {
   "display_name": "Python 3 (ipykernel)",
   "language": "python",
   "name": "python3"
  },
  "language_info": {
   "codemirror_mode": {
    "name": "ipython",
    "version": 3
   },
   "file_extension": ".py",
   "mimetype": "text/x-python",
   "name": "python",
   "nbconvert_exporter": "python",
   "pygments_lexer": "ipython3",
   "version": "3.9.12"
  }
 },
 "nbformat": 4,
 "nbformat_minor": 2
}
