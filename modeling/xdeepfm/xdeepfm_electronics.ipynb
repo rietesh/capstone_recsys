{
 "cells": [
  {
   "cell_type": "markdown",
   "metadata": {},
   "source": [
    "# xDeepFM : the eXtreme Deep Factorization Machine \n",
    "This notebook will give you a quick example of how to train an [xDeepFM model](https://arxiv.org/abs/1803.05170). \n",
    "xDeepFM \\[1\\] is a deep learning-based model aims at capturing both lower- and higher-order feature interactions for precise recommender systems. Thus it can learn feature interactions more effectively and manual feature engineering effort can be substantially reduced. To summarize, xDeepFM has the following key properties:\n",
    "* It contains a component, named CIN, that learns feature interactions in an explicit fashion and in vector-wise level; <b>Compressed Interaction Network</b>\n",
    "* It contains a traditional DNN component that learns feature interactions in an implicit fashion and in bit-wise level.\n",
    "* The implementation makes this model quite configurable. We can enable different subsets of components by setting hyperparameters like `use_Linear_part`, `use_FM_part`, `use_CIN_part`, and `use_DNN_part`. For example, by enabling only the `use_Linear_part` and `use_FM_part`, we can get a classical FM model.\n",
    "\n",
    "In this notebook, we test xDeepFM on the Amazon Electronics reviews dataset"
   ]
  },
  {
   "cell_type": "markdown",
   "metadata": {},
   "source": [
    "One major type of feature transformation is the <b>cross-product transformation over categorical\n",
    "features</b>. These features are called cross features or multi-way features, they measure the interactions of multiple raw features. For instance, a 3-way feature AND(user_organization=msra,\n",
    "item_category=deeplearning, time=monday) has value 1 if the user works at Microsoft Research Asia and is shown a technical article about deep learning on a Monday."
   ]
  },
  {
   "cell_type": "markdown",
   "metadata": {},
   "source": [
    "#### Global Settings and Imports"
   ]
  },
  {
   "cell_type": "code",
   "execution_count": 1,
   "metadata": {},
   "outputs": [],
   "source": [
    "import sys\n",
    "sys.path.append('../../../recommenders/') # if needed adjust the path to the Microsoft Recommenders clone"
   ]
  },
  {
   "cell_type": "code",
   "execution_count": 2,
   "metadata": {},
   "outputs": [],
   "source": [
    "# adjust the paths to the data shared on the Google drive\n",
    "AMZN_DATA_DIR = '/home/shiv/Documents/DataScience/Capstone/Data/'\n",
    "DATA_DIR = '/home/shiv/Documents/DataScience/Capstone/Data/xdeepfm/'\n",
    "YAML_DIR = '/home/shiv/Documents/DataScience/Capstone/Modeling/xdeepfm/config/'\n",
    "MODEL_DIR = '/home/shiv/Documents/DataScience/Capstone/Modeling/xdeepfm/model/'"
   ]
  },
  {
   "cell_type": "code",
   "execution_count": 3,
   "metadata": {},
   "outputs": [
    {
     "name": "stdout",
     "output_type": "stream",
     "text": [
      "System version: 3.9.12 (main, Jun  1 2022, 11:38:51) \n",
      "[GCC 7.5.0]\n",
      "Tensorflow version: 2.8.0\n"
     ]
    }
   ],
   "source": [
    "import sys\n",
    "import os\n",
    "import scrapbook as sb\n",
    "from tempfile import TemporaryDirectory\n",
    "import tensorflow as tf\n",
    "tf.get_logger().setLevel('ERROR') # only show error messages\n",
    "\n",
    "from recommenders.utils.constants import SEED\n",
    "from recommenders.models.deeprec.deeprec_utils import (\n",
    "    download_deeprec_resources, prepare_hparams\n",
    ")\n",
    "\n",
    "from recommenders.models.deeprec.models.xDeepFM import XDeepFMModel\n",
    "from recommenders.models.deeprec.io.iterator import FFMTextIterator\n",
    "\n",
    "print(\"System version: {}\".format(sys.version))\n",
    "print(\"Tensorflow version: {}\".format(tf.__version__))"
   ]
  },
  {
   "cell_type": "markdown",
   "metadata": {},
   "source": [
    "#### Parameters"
   ]
  },
  {
   "cell_type": "code",
   "execution_count": 4,
   "metadata": {
    "tags": [
     "parameters"
    ]
   },
   "outputs": [],
   "source": [
    "EPOCHS = 15\n",
    "BATCH_SIZE = 4096 # default\n",
    "RANDOM_SEED = SEED  # Set to None for non-deterministic result"
   ]
  },
  {
   "cell_type": "markdown",
   "metadata": {},
   "source": [
    "<b>xDeepFM</b> uses the FFM format as data input: `<label> <field_id>:<feature_id>:<feature_value>`  \n",
    "Each line represents an instance, `<label>` is a rating value  followed by numerical features (userID, itemID) and categorical features in the FFM format.<br><br>\n",
    "\n",
    "Features are divided into fields. For example, user's gender is a field, it contains three possible values, i.e. male, female and unknown. Occupation can be another field, which contains many more possible values than the gender field. <b>Both field index and feature index are starting from 1.</b>"
   ]
  },
  {
   "cell_type": "markdown",
   "metadata": {},
   "source": [
    "#### Create data loader\n",
    "Designate a data iterator for the model. xDeepFM uses FFMTextIterator. "
   ]
  },
  {
   "cell_type": "code",
   "execution_count": 5,
   "metadata": {},
   "outputs": [],
   "source": [
    "input_creator = FFMTextIterator"
   ]
  },
  {
   "cell_type": "markdown",
   "metadata": {},
   "source": [
    "#### Prepare hyper parameters"
   ]
  },
  {
   "cell_type": "code",
   "execution_count": 6,
   "metadata": {},
   "outputs": [],
   "source": [
    "yaml_file = os.path.join(YAML_DIR, r'xDeepFM.yaml')\n",
    "FEATURE_COUNT = 894465\n",
    "FIELD_COUNT = 38"
   ]
  },
  {
   "cell_type": "markdown",
   "metadata": {},
   "source": [
    "### Tuned hyper parameters\n",
    "- dropout\n",
    "- l2 normalization"
   ]
  },
  {
   "cell_type": "code",
   "execution_count": 7,
   "metadata": {},
   "outputs": [],
   "source": [
    "hparams = prepare_hparams(yaml_file,\n",
    "                          method='regression', \n",
    "                          metrics=['rmse'],\n",
    "                          loss='square_loss',\n",
    "                          dropout=[0.5,0.5],\n",
    "                          embed_l2=0.01,\n",
    "                          leyer_l2=0.01,\n",
    "                          save_model=True,\n",
    "                          write_tfevents=True,\n",
    "                          epochs=EPOCHS,\n",
    "                          SUMMARIES_DIR='./outputs/models/xdeepfm/summary',\n",
    "                          MODEL_DIR='./outputs/models/xdeepfm/',\n",
    "                          FEATURE_COUNT=FEATURE_COUNT, \n",
    "                          FIELD_COUNT=FIELD_COUNT)"
   ]
  },
  {
   "cell_type": "code",
   "execution_count": 8,
   "metadata": {},
   "outputs": [
    {
     "data": {
      "text/plain": [
       "HParams object with values {'use_entity': True, 'use_context': True, 'cross_activation': 'identity', 'user_dropout': False, 'dropout': [0.5, 0.5], 'attention_dropout': 0.0, 'load_saved_model': False, 'fast_CIN_d': 0, 'use_Linear_part': True, 'use_FM_part': False, 'use_CIN_part': True, 'use_DNN_part': True, 'init_method': 'tnormal', 'init_value': 0.1, 'embed_l2': 0.01, 'embed_l1': 0.0, 'layer_l2': 0.0001, 'layer_l1': 0.0, 'cross_l2': 0.0, 'cross_l1': 0.0, 'reg_kg': 0.0, 'learning_rate': 0.001, 'lr_rs': 1, 'lr_kg': 0.5, 'kg_training_interval': 5, 'max_grad_norm': 2, 'is_clip_norm': 0, 'dtype': 32, 'optimizer': 'adam', 'epochs': 15, 'batch_size': 4096, 'enable_BN': False, 'show_step': 1000, 'save_model': True, 'save_epoch': 2, 'write_tfevents': True, 'train_num_ngs': 4, 'need_sample': True, 'embedding_dropout': 0.0, 'EARLY_STOP': 100, 'min_seq_length': 1, 'slots': 5, 'cell': 'SUM', 'FIELD_COUNT': 38, 'FEATURE_COUNT': 894465, 'data_format': 'ffm', 'load_model_name': 'you model path', 'method': 'regression', 'model_type': 'xDeepFM', 'dim': 10, 'layer_sizes': [400, 400], 'activation': ['relu', 'relu'], 'cross_layer_sizes': [200, 200, 100], 'loss': 'square_loss', 'metrics': ['rmse'], 'leyer_l2': 0.01, 'SUMMARIES_DIR': './outputs/models/xdeepfm/summary', 'MODEL_DIR': './outputs/models/xdeepfm/'}"
      ]
     },
     "execution_count": 8,
     "metadata": {},
     "output_type": "execute_result"
    }
   ],
   "source": [
    "hparams"
   ]
  },
  {
   "cell_type": "code",
   "execution_count": 9,
   "metadata": {},
   "outputs": [],
   "source": [
    "train_file = os.path.join(DATA_DIR, 'amzn_e_train.txt') \n",
    "valid_file = os.path.join(DATA_DIR, 'amzn_e_valid.txt')\n",
    "test_file = os.path.join(DATA_DIR, 'amzn_e_test.txt')"
   ]
  },
  {
   "cell_type": "markdown",
   "metadata": {},
   "source": [
    "## [Jump to Model Serving](#model_serving) if we already have a pre-built model!"
   ]
  },
  {
   "cell_type": "markdown",
   "metadata": {},
   "source": [
    "#### Model for training"
   ]
  },
  {
   "cell_type": "code",
   "execution_count": 11,
   "metadata": {},
   "outputs": [
    {
     "name": "stdout",
     "output_type": "stream",
     "text": [
      "Add linear part.\n",
      "Add CIN part.\n",
      "Add DNN part.\n"
     ]
    },
    {
     "name": "stderr",
     "output_type": "stream",
     "text": [
      "/home/shiv/anaconda3/envs/RecSys_39/lib/python3.9/site-packages/tensorflow/python/framework/indexed_slices.py:444: UserWarning: Converting sparse IndexedSlices(IndexedSlices(indices=Tensor(\"gradients/XDeepFM/embedding/embedding_lookup_sparse/GatherV2_grad/Reshape_1:0\", shape=(None,), dtype=int32), values=Tensor(\"gradients/XDeepFM/embedding/embedding_lookup_sparse/GatherV2_grad/Reshape:0\", shape=(None, 10), dtype=float32), dense_shape=Tensor(\"gradients/XDeepFM/embedding/embedding_lookup_sparse/GatherV2_grad/Cast:0\", shape=(2,), dtype=int32))) to a dense Tensor of unknown shape. This may consume a large amount of memory.\n",
      "  warnings.warn(\n",
      "2022-08-09 15:16:03.655122: I tensorflow/core/common_runtime/gpu/gpu_device.cc:1525] Created device /job:localhost/replica:0/task:0/device:GPU:0 with 6113 MB memory:  -> device: 1, name: NVIDIA GeForce RTX 3070, pci bus id: 0000:04:00.0, compute capability: 8.6\n"
     ]
    }
   ],
   "source": [
    "# input_creator = FFMTextIterator_v2\n",
    "# model = XDeepFMModel_v2(hparams, input_creator, seed=RANDOM_SEED)\n",
    "input_creator = FFMTextIterator\n",
    "model = XDeepFMModel(hparams, input_creator, seed=RANDOM_SEED)"
   ]
  },
  {
   "cell_type": "code",
   "execution_count": 12,
   "metadata": {},
   "outputs": [
    {
     "name": "stderr",
     "output_type": "stream",
     "text": [
      "2022-08-09 15:16:15.913402: I tensorflow/stream_executor/cuda/cuda_blas.cc:1786] TensorFloat-32 will be used for the matrix multiplication. This will only be logged once.\n",
      "2022-08-09 15:16:16.077871: I tensorflow/stream_executor/cuda/cuda_dnn.cc:368] Loaded cuDNN version 8301\n"
     ]
    },
    {
     "name": "stdout",
     "output_type": "stream",
     "text": [
      "{'rmse': 4.319919}\n"
     ]
    }
   ],
   "source": [
    "# check the predictive performance before the model is trained\n",
    "print(model.run_eval(test_file)) # 'rmse': 4.319919\n"
   ]
  },
  {
   "cell_type": "code",
   "execution_count": 13,
   "metadata": {},
   "outputs": [
    {
     "name": "stdout",
     "output_type": "stream",
     "text": [
      "step 1000 , total_loss: 1.2066, data_loss: 1.1420\n",
      "at epoch 1\n",
      "train info: logloss loss:16.959061432683814\n",
      "eval info: rmse:1.2174153\n",
      "at epoch 1 , train time: 1428.6 eval time: 173.5\n",
      "step 1000 , total_loss: 1.1844, data_loss: 1.1403\n",
      "at epoch 2\n",
      "train info: logloss loss:1.1578217694616837\n",
      "eval info: rmse:1.1688027\n",
      "at epoch 2 , train time: 1383.9 eval time: 167.0\n",
      "step 1000 , total_loss: 1.1739, data_loss: 1.1380\n",
      "at epoch 3\n",
      "train info: logloss loss:1.142639052554749\n",
      "eval info: rmse:1.1519983\n",
      "at epoch 3 , train time: 1392.4 eval time: 168.7\n",
      "step 1000 , total_loss: 1.1731, data_loss: 1.1401\n",
      "at epoch 4\n",
      "train info: logloss loss:1.1366060441494852\n",
      "eval info: rmse:1.1489996\n",
      "at epoch 4 , train time: 1745.8 eval time: 195.9\n",
      "step 1000 , total_loss: 1.1730, data_loss: 1.1389\n",
      "at epoch 5\n",
      "train info: logloss loss:1.1356914678885452\n",
      "eval info: rmse:1.1475626\n",
      "at epoch 5 , train time: 1510.9 eval time: 194.4\n",
      "step 1000 , total_loss: 1.1753, data_loss: 1.1373\n",
      "at epoch 6\n",
      "train info: logloss loss:1.1376669498673384\n",
      "eval info: rmse:1.1450328\n",
      "at epoch 6 , train time: 1540.3 eval time: 189.6\n",
      "step 1000 , total_loss: 1.1792, data_loss: 1.1367\n",
      "at epoch 7\n",
      "train info: logloss loss:1.1414497831593389\n",
      "eval info: rmse:1.1426286\n",
      "at epoch 7 , train time: 1394.3 eval time: 170.8\n",
      "step 1000 , total_loss: 1.2057, data_loss: 1.1366\n",
      "at epoch 8\n",
      "train info: logloss loss:1.1505193541339342\n",
      "eval info: rmse:1.1429348\n",
      "at epoch 8 , train time: 1389.5 eval time: 170.0\n",
      "step 1000 , total_loss: 1.2162, data_loss: 1.1366\n",
      "at epoch 9\n",
      "train info: logloss loss:1.153465853707082\n",
      "eval info: rmse:1.1434159\n",
      "at epoch 9 , train time: 1389.8 eval time: 170.1\n",
      "step 1000 , total_loss: 1.2328, data_loss: 1.1369\n",
      "at epoch 10\n",
      "train info: logloss loss:1.1589176979833755\n",
      "eval info: rmse:1.1401755\n",
      "at epoch 10 , train time: 1389.5 eval time: 170.5\n",
      "step 1000 , total_loss: 1.2351, data_loss: 1.1380\n",
      "at epoch 11\n",
      "train info: logloss loss:1.1657410011343334\n",
      "eval info: rmse:1.1391664\n",
      "at epoch 11 , train time: 1394.7 eval time: 171.3\n",
      "step 1000 , total_loss: 1.2577, data_loss: 1.1372\n",
      "at epoch 12\n",
      "train info: logloss loss:1.1856148411938245\n",
      "eval info: rmse:1.1373214\n",
      "at epoch 12 , train time: 1466.5 eval time: 174.9\n",
      "step 1000 , total_loss: 1.3454, data_loss: 1.1363\n",
      "at epoch 13\n",
      "train info: logloss loss:1.2351370871175027\n",
      "eval info: rmse:1.1311499\n",
      "at epoch 13 , train time: 1386.2 eval time: 171.3\n",
      "step 1000 , total_loss: 1.8233, data_loss: 1.1353\n",
      "at epoch 14\n",
      "train info: logloss loss:1.4465226822573205\n",
      "eval info: rmse:2.6162376\n",
      "at epoch 14 , train time: 1389.4 eval time: 170.7\n",
      "step 1000 , total_loss: 1.3264, data_loss: 1.0015\n",
      "at epoch 15\n",
      "train info: logloss loss:1.464685181128806\n",
      "eval info: rmse:3.1366863\n",
      "at epoch 15 , train time: 1387.0 eval time: 170.0\n"
     ]
    },
    {
     "data": {
      "text/plain": [
       "<recommenders.models.deeprec.models.xDeepFM.XDeepFMModel at 0x7f64085323d0>"
      ]
     },
     "execution_count": 13,
     "metadata": {},
     "output_type": "execute_result"
    }
   ],
   "source": [
    "model.fit(train_file, valid_file)"
   ]
  },
  {
   "cell_type": "markdown",
   "metadata": {},
   "source": [
    "#### Restore the best model"
   ]
  },
  {
   "cell_type": "code",
   "execution_count": 16,
   "metadata": {},
   "outputs": [],
   "source": [
    "model.saver.restore(sess=model.sess, save_path=MODEL_DIR+'/epoch_12')"
   ]
  },
  {
   "cell_type": "markdown",
   "metadata": {},
   "source": [
    "#### Rating metrics (rmse) on test_file"
   ]
  },
  {
   "cell_type": "code",
   "execution_count": 17,
   "metadata": {},
   "outputs": [
    {
     "data": {
      "application/scrapbook.scrap.json+json": {
       "data": {
        "rmse": 1.1891173124313354
       },
       "encoder": "json",
       "name": "res_real",
       "version": 1
      }
     },
     "metadata": {
      "scrapbook": {
       "data": true,
       "display": false,
       "name": "res_real"
      }
     },
     "output_type": "display_data"
    },
    {
     "name": "stdout",
     "output_type": "stream",
     "text": [
      "{'rmse': 1.1891173}\n"
     ]
    }
   ],
   "source": [
    "# check the predictive performance after the model is trained\n",
    "res_real = model.run_eval(test_file)\n",
    "sb.glue(\"res_real\", res_real)\n",
    "print(res_real)"
   ]
  },
  {
   "cell_type": "code",
   "execution_count": 14,
   "metadata": {},
   "outputs": [
    {
     "data": {
      "image/png": "[encoded data removed]",
      "text/plain": [
       "<Figure size 360x360 with 1 Axes>"
      ]
     },
     "metadata": {
      "needs_background": "light"
     },
     "output_type": "display_data"
    }
   ],
   "source": [
    "from recommenders.utils import plot\n",
    "\n",
    "train_loss = [16.9591, 1.15782, 1.14264, 1.13661, 1.1357, 1.1377, 1.1414, 1.1505, 1.1534, 1.1589,\n",
    "              1.1657,  1.1856, 1.2351, 1.4465, 1.4646]\n",
    "valid_loss = [1.21742, 1.16880,   1.152, 1.149,  1.14756, 1.1450, 1.1426, 1.1429, 1.1434, 1.1401, \n",
    "               1.1391, 1.1373, 1.1311, 2.6162, 3.1366]\n",
    "x = range(1,16)\n",
    "plot.line_graph(\n",
    "    values=[list(zip(train_loss,x)), list(zip(valid_loss,x))],\n",
    "    labels=['train','valid'],\n",
    "    x_name='epochs',\n",
    "    y_name='rmse',\n",
    "    legend_loc='upper right'\n",
    ")"
   ]
  },
  {
   "attachments": {
    "image-2.png": {
     "image/png": "[encoded data removed]"
    },
    "image.png": {
     "image/png": "[encoded data removed]"
    }
   },
   "cell_type": "markdown",
   "metadata": {},
   "source": [
    "### TensorBoard\n",
    "\n",
    "Once the train is done, you can browse the details of the training results as well as the metrics we logged from [TensorBoard](https://www.tensorflow.org/guide/summaries_and_tensorboard).\n",
    "\n",
    "[]()|[]()\n",
    ":---:|:---:\n",
    "![image.png](attachment:image.png)|![image-2.png](attachment:image-2.png)\n",
    "\n",
    "To open the TensorBoard, open a terminal from the same directory of this notebook, run `tensorboard --logdir=model_checkpoints`, and open http://localhost:6006 from a browser.\n"
   ]
  },
  {
   "cell_type": "markdown",
   "metadata": {},
   "source": [
    "### Save the model"
   ]
  },
  {
   "cell_type": "code",
   "execution_count": 18,
   "metadata": {},
   "outputs": [
    {
     "data": {
      "text/plain": [
       "'/home/shiv/Documents/DataScience/Capstone/Modeling/xdeepfm/model/epoch_12'"
      ]
     },
     "execution_count": 18,
     "metadata": {},
     "output_type": "execute_result"
    }
   ],
   "source": [
    "import os\n",
    "\n",
    "model_path = os.path.join(MODEL_DIR, 'epoch_12')\n",
    "model.saver.save(sess=model.sess, save_path=model_path)"
   ]
  },
  {
   "cell_type": "markdown",
   "metadata": {},
   "source": [
    "<a id=\"model_serving\"></a>\n",
    "### Model Serving"
   ]
  },
  {
   "cell_type": "code",
   "execution_count": 10,
   "metadata": {},
   "outputs": [
    {
     "name": "stdout",
     "output_type": "stream",
     "text": [
      "Add linear part.\n",
      "Add CIN part.\n",
      "Add DNN part.\n"
     ]
    },
    {
     "name": "stderr",
     "output_type": "stream",
     "text": [
      "/home/shiv/anaconda3/envs/capstone/lib/python3.9/site-packages/tensorflow/python/framework/indexed_slices.py:444: UserWarning: Converting sparse IndexedSlices(IndexedSlices(indices=Tensor(\"gradients/XDeepFM/embedding/embedding_lookup_sparse/GatherV2_grad/Reshape_1:0\", shape=(None,), dtype=int32), values=Tensor(\"gradients/XDeepFM/embedding/embedding_lookup_sparse/GatherV2_grad/Reshape:0\", shape=(None, 10), dtype=float32), dense_shape=Tensor(\"gradients/XDeepFM/embedding/embedding_lookup_sparse/GatherV2_grad/Cast:0\", shape=(2,), dtype=int32))) to a dense Tensor of unknown shape. This may consume a large amount of memory.\n",
      "  warnings.warn(\n",
      "2022-08-17 21:08:09.770982: I tensorflow/core/platform/cpu_feature_guard.cc:151] This TensorFlow binary is optimized with oneAPI Deep Neural Network Library (oneDNN) to use the following CPU instructions in performance-critical operations:  AVX2 FMA\n",
      "To enable them in other operations, rebuild TensorFlow with the appropriate compiler flags.\n",
      "2022-08-17 21:08:10.336172: I tensorflow/core/common_runtime/gpu/gpu_device.cc:1525] Created device /job:localhost/replica:0/task:0/device:GPU:0 with 5687 MB memory:  -> device: 0, name: NVIDIA GeForce RTX 3070, pci bus id: 0000:01:00.0, compute capability: 8.6\n",
      "2022-08-17 21:08:10.336656: I tensorflow/core/common_runtime/gpu/gpu_device.cc:1525] Created device /job:localhost/replica:0/task:0/device:GPU:1 with 644 MB memory:  -> device: 1, name: NVIDIA GeForce RTX 3070, pci bus id: 0000:04:00.0, compute capability: 8.6\n"
     ]
    }
   ],
   "source": [
    "import os\n",
    "import pickle\n",
    "import pandas as pd\n",
    "from tempfile import TemporaryDirectory\n",
    "from tqdm import tqdm\n",
    "\n",
    "from recommenders.utils.constants import (\n",
    "    DEFAULT_USER_COL as USER_COL,\n",
    "    DEFAULT_ITEM_COL as ITEM_COL,\n",
    "    DEFAULT_RATING_COL as RATING_COL,\n",
    "    DEFAULT_GENRE_COL as ITEM_FEAT_COL,\n",
    "    DEFAULT_PREDICTION_COL as PREDICT_COL,\n",
    "    DEFAULT_K,\n",
    "    DEFAULT_THRESHOLD    \n",
    ")\n",
    "import recommenders.evaluation.python_evaluation as evaluator\n",
    "\n",
    "model_path = os.path.join(MODEL_DIR, 'epoch_12')\n",
    "\n",
    "hparams.load_saved_model = model_path\n",
    "hparams.batch_size = 20*51\n",
    "hparams.pairwise_metrics = ['ndcg@10', 'hit@10']\n",
    "\n",
    "model = XDeepFMModel(hparams, FFMTextIterator, seed=SEED)\n",
    "model.load_model()"
   ]
  },
  {
   "cell_type": "markdown",
   "metadata": {},
   "source": [
    "#### Rating metrics (rmse) on test_file"
   ]
  },
  {
   "cell_type": "code",
   "execution_count": 13,
   "metadata": {},
   "outputs": [],
   "source": [
    "# res_real = model.run_eval(test_file)\n",
    "# print(res_real) # 1.1891173 Note that it the same result as above for the best model"
   ]
  },
  {
   "cell_type": "markdown",
   "metadata": {},
   "source": [
    "#### Ranking metrics (NDCG@10, Hit@10) for users from the test file"
   ]
  },
  {
   "cell_type": "code",
   "execution_count": 25,
   "metadata": {},
   "outputs": [
    {
     "name": "stdout",
     "output_type": "stream",
     "text": [
      "\n",
      "/home/shiv/Documents/DataScience/Capstone/Data/xdeepfm/amzn_e_tst_w_neg0.txt*********!\n",
      "/home/shiv/Documents/DataScience/Capstone/Data/xdeepfm/amzn_e_tst_w_neg1.txt*********!\n",
      "/home/shiv/Documents/DataScience/Capstone/Data/xdeepfm/amzn_e_tst_w_neg2.txt*********!\n",
      "/home/shiv/Documents/DataScience/Capstone/Data/xdeepfm/amzn_e_tst_w_neg3.txt*********!\n",
      "/home/shiv/Documents/DataScience/Capstone/Data/xdeepfm/amzn_e_tst_w_neg4.txt*********!"
     ]
    }
   ],
   "source": [
    "import numpy as np\n",
    "from recommenders.models.deeprec.deeprec_utils import cal_metric\n",
    "\n",
    "NUM_NEG_SAMPLES = 50\n",
    "\n",
    "load_sess = model.sess\n",
    "# preds = []\n",
    "# labels = []\n",
    "group_preds = []\n",
    "# group_labels = []\n",
    "group = NUM_NEG_SAMPLES + 1\n",
    "\n",
    "for i in range(5):\n",
    "    rec_cnt = 0\n",
    "    tst_file_w_neg = DATA_DIR + f'amzn_e_tst_w_neg{i}.txt'\n",
    "    print()\n",
    "    print(tst_file_w_neg, end='')\n",
    "    for batch_data_input, _, data_size in model.iterator.load_data_from_file(tst_file_w_neg):\n",
    "        assert(data_size % group == 0)\n",
    "        step_pred, step_labels = model.eval(load_sess, batch_data_input)\n",
    "        # preds.extend(np.reshape(step_pred, -1))\n",
    "        # labels.extend(np.reshape(step_labels, -1))\n",
    "        group_preds.extend(np.reshape(step_pred, (-1, group)))\n",
    "        # group_labels.extend(np.reshape(step_labels, (-1, group)))\n",
    "\n",
    "        rec_cnt += data_size/group\n",
    "        if rec_cnt%10_000 == 0:\n",
    "            if rec_cnt%100_000 == 0:\n",
    "                print('!', end='')\n",
    "            else:\n",
    "                print('*', end='')"
   ]
  },
  {
   "cell_type": "code",
   "execution_count": 48,
   "metadata": {},
   "outputs": [
    {
     "data": {
      "text/plain": [
       "(0.18814342934817319, 0.34967027875148565)"
      ]
     },
     "execution_count": 48,
     "metadata": {},
     "output_type": "execute_result"
    }
   ],
   "source": [
    "NDCG = 0.0\n",
    "HT = 0.0\n",
    "for each_preds in group_preds:\n",
    "    predictions = np.array(each_preds)\n",
    "    predictions = -1.0 * predictions\n",
    "\n",
    "    # print(predictions)\n",
    "    # print(predictions.argsort())    \n",
    "    rank = predictions.argsort().argsort()[0]\n",
    "    if rank < 10:\n",
    "        NDCG += 1 / np.log2(rank + 2)\n",
    "        HT += 1\n",
    "NDCG/len(group_preds),HT/len(group_preds)"
   ]
  },
  {
   "cell_type": "markdown",
   "metadata": {},
   "source": [
    "### Top K for a user across all products"
   ]
  },
  {
   "cell_type": "code",
   "execution_count": 11,
   "metadata": {},
   "outputs": [],
   "source": [
    "# Read the original reviews data frame (same as the one used by wide_deep model)\n",
    "data = pd.read_csv(AMZN_DATA_DIR + 'wide_deep/Electronics/wide_deep_amzn_e_20.csv',\n",
    "                   header=None, low_memory=False)\n",
    "data.columns = [USER_COL,ITEM_COL,RATING_COL,ITEM_FEAT_COL,\n",
    "                'unixTimeStamp','title','price','main_cat','category']\n",
    "data.sort_values('unixTimeStamp', inplace=True)\n",
    "data.reset_index(inplace=True, drop=True)"
   ]
  },
  {
   "cell_type": "code",
   "execution_count": 12,
   "metadata": {},
   "outputs": [
    {
     "name": "stdout",
     "output_type": "stream",
     "text": [
      "# users 830668\n",
      "# items 63725\n"
     ]
    }
   ],
   "source": [
    "users = data.drop_duplicates(USER_COL)[[USER_COL]].reset_index(drop=True)\n",
    "print(\"# users\", users.shape[0])\n",
    "\n",
    "# Ignore items already seen (makes sense for movies but Amazon products???\n",
    "items = data.drop_duplicates(ITEM_COL)[[ITEM_COL, ITEM_FEAT_COL, 'title']].reset_index(drop=True)\n",
    "print(\"# items\", items.shape[0])"
   ]
  },
  {
   "cell_type": "code",
   "execution_count": 13,
   "metadata": {},
   "outputs": [
    {
     "data": {
      "text/html": [
       "<div>\n",
       "<style scoped>\n",
       "    .dataframe tbody tr th:only-of-type {\n",
       "        vertical-align: middle;\n",
       "    }\n",
       "\n",
       "    .dataframe tbody tr th {\n",
       "        vertical-align: top;\n",
       "    }\n",
       "\n",
       "    .dataframe thead th {\n",
       "        text-align: right;\n",
       "    }\n",
       "</style>\n",
       "<table border=\"1\" class=\"dataframe\">\n",
       "  <thead>\n",
       "    <tr style=\"text-align: right;\">\n",
       "      <th></th>\n",
       "      <th>userID</th>\n",
       "      <th>itemID</th>\n",
       "    </tr>\n",
       "  </thead>\n",
       "  <tbody>\n",
       "    <tr>\n",
       "      <th>8009</th>\n",
       "      <td>8009</td>\n",
       "      <td>324</td>\n",
       "    </tr>\n",
       "    <tr>\n",
       "      <th>2347</th>\n",
       "      <td>2347</td>\n",
       "      <td>243</td>\n",
       "    </tr>\n",
       "    <tr>\n",
       "      <th>35258</th>\n",
       "      <td>35258</td>\n",
       "      <td>238</td>\n",
       "    </tr>\n",
       "    <tr>\n",
       "      <th>1522</th>\n",
       "      <td>1522</td>\n",
       "      <td>236</td>\n",
       "    </tr>\n",
       "    <tr>\n",
       "      <th>63007</th>\n",
       "      <td>63007</td>\n",
       "      <td>232</td>\n",
       "    </tr>\n",
       "  </tbody>\n",
       "</table>\n",
       "</div>"
      ],
      "text/plain": [
       "       userID  itemID\n",
       "8009     8009     324\n",
       "2347     2347     243\n",
       "35258   35258     238\n",
       "1522     1522     236\n",
       "63007   63007     232"
      ]
     },
     "execution_count": 13,
     "metadata": {},
     "output_type": "execute_result"
    }
   ],
   "source": [
    "# Find the user with the most reviews\n",
    "data_grp = data[[USER_COL, ITEM_COL]].groupby(USER_COL, as_index=False).count()\n",
    "data_grp.sort_values(ITEM_COL, ascending=False, inplace=True)\n",
    "data_grp.head(5)"
   ]
  },
  {
   "cell_type": "code",
   "execution_count": 14,
   "metadata": {},
   "outputs": [
    {
     "name": "stdout",
     "output_type": "stream",
     "text": [
      "['userID', 'itemID', 'Accessories', 'Accessories & Supplies', 'All Electronics', 'Amazon Devices', 'Apple Products', 'Audio & Video Accessories', 'Automotive', 'Camera & Photo', 'Car & Vehicle Electronics', 'Car Electronics', 'Cell Phones & Accessories', 'Clothing, Shoes & Jewelry', 'Computer Accessories & Peripherals', 'Computer Components', 'Computers', 'Computers & Accessories', 'Controllers', 'Electrical', 'Electronics', 'GPS & Navigation', 'Home & Kitchen', 'Home Audio', 'Home Audio & Theater', 'Industrial & Scientific', 'Laptop Accessories', 'Musical Instruments', 'Office & School Supplies', 'Office Electronics', 'Office Products', 'Portable Audio & Accessories', 'Portable Audio & Video', 'Sports & Fitness', 'Sports & Outdoors', 'Tools & Home Improvement', 'Toys & Games', 'Video Games']\n"
     ]
    }
   ],
   "source": [
    "# Read the feature index and field index pickle files\n",
    "with open(DATA_DIR + 'feat_index.pkl', 'rb') as f:\n",
    "    feat_index = pickle.load(f)\n",
    "with open(DATA_DIR + 'field_index.pkl', 'rb') as f:\n",
    "    field_index = pickle.load(f)\n",
    "    \n",
    "# Prepare the feature columns (both numeric as well as categorical)\n",
    "cols = [USER_COL, ITEM_COL]\n",
    "with open(DATA_DIR + 'lst_genres.pkl', 'rb') as f:\n",
    "    lst_genres = pickle.load(f)\n",
    "for genre in lst_genres:\n",
    "    cols.append(genre)\n",
    "print(cols)"
   ]
  },
  {
   "cell_type": "markdown",
   "metadata": {},
   "source": [
    "#### Prepare to output the dataframe with the predicted score, title and category of items unseen by user 8009"
   ]
  },
  {
   "cell_type": "code",
   "execution_count": 15,
   "metadata": {},
   "outputs": [],
   "source": [
    "tmp_dir = TemporaryDirectory()\n",
    "\n",
    "train = pd.read_csv(train_file, sep=' ', header=None)\n",
    "train.columns = ['label'] + cols\n",
    "\n",
    "all_items_set = set()\n",
    "rev_item_lookup = {} # dictionary for reverse lookup of title and genre\n",
    "for _, row in items.iterrows():\n",
    "    i = row[ITEM_COL]\n",
    "    item_feat_ffm = str(field_index[ITEM_COL]) + ':' + str(feat_index['item#' + str(i)]) + ':1'\n",
    "    rev_item_lookup[item_feat_ffm] = {'title': row['title'], 'genre': row[ITEM_FEAT_COL]}\n",
    "    all_items_set.add(item_feat_ffm)\n",
    "    \n",
    "items_df = train.drop_duplicates([ITEM_COL]).copy()\n",
    "items_df.drop(columns=['label', USER_COL], inplace=True)\n",
    "items_df.set_index(ITEM_COL, inplace=True) # for fast lookup\n",
    "# items_df"
   ]
  },
  {
   "cell_type": "code",
   "execution_count": 16,
   "metadata": {},
   "outputs": [],
   "source": [
    "# Note: Choose the first user from the data_grp\n",
    "\n",
    "user = data_grp.iloc[0]['userID']\n",
    "user_feat_ffm = str(field_index[USER_COL]) + ':' + str(feat_index['user#' + str(user)]) + ':1'\n",
    "\n",
    "tmp_df = train[train[USER_COL]==user_feat_ffm]\n",
    "items_rated_set = set(tmp_df[ITEM_COL].values)\n",
    "\n",
    "items_not_seen = all_items_set - items_rated_set\n",
    "lst_items_not_seen = list(items_not_seen)"
   ]
  },
  {
   "cell_type": "code",
   "execution_count": 17,
   "metadata": {
    "scrolled": true
   },
   "outputs": [
    {
     "name": "stdout",
     "output_type": "stream",
     "text": [
      "***************************************************************\n",
      "Predicting for user 8009, # unseen items 63478\n"
     ]
    },
    {
     "name": "stderr",
     "output_type": "stream",
     "text": [
      "2022-08-17 21:08:51.901167: I tensorflow/stream_executor/cuda/cuda_blas.cc:1786] TensorFloat-32 will be used for the matrix multiplication. This will only be logged once.\n",
      "2022-08-17 21:08:51.991854: I tensorflow/stream_executor/cuda/cuda_dnn.cc:368] Loaded cuDNN version 8301\n"
     ]
    }
   ],
   "source": [
    "test_nolabel = tmp_dir.name + '/amzn_test_no_label.txt'\n",
    "out = open(test_nolabel, 'w')\n",
    "\n",
    "it_cnt = 0\n",
    "for it in lst_items_not_seen:\n",
    "\n",
    "    tmp_df = items_df.loc[it]\n",
    "    assert(tmp_df.shape[0] != 0) # all items are present in the train dataframe\n",
    "    \n",
    "    feats = []\n",
    "    feats.append(str(5.0)) # unused\n",
    "    feats.append(user_feat_ffm)\n",
    "    feats.append(it)\n",
    "    it_cat_feats = list(tmp_df.values)\n",
    "    feats.extend(it_cat_feats)\n",
    "    out.write(' '.join(feats) + '\\n')\n",
    "\n",
    "    it_cnt += 1\n",
    "    if it_cnt % 1000 == 0:\n",
    "        print('*', end='')\n",
    "\n",
    "out.close()\n",
    "\n",
    "print()\n",
    "print(f'Predicting for user {user}, # unseen items {it_cnt}')\n",
    "outfile = tmp_dir.name + '/amzn_out.txt'\n",
    "model.predict(test_nolabel, outfile);"
   ]
  },
  {
   "cell_type": "markdown",
   "metadata": {},
   "source": [
    "#### Output the predicted score, title, and category/genre of the item in a csv file"
   ]
  },
  {
   "cell_type": "code",
   "execution_count": 18,
   "metadata": {},
   "outputs": [
    {
     "data": {
      "text/html": [
       "<div>\n",
       "<style scoped>\n",
       "    .dataframe tbody tr th:only-of-type {\n",
       "        vertical-align: middle;\n",
       "    }\n",
       "\n",
       "    .dataframe tbody tr th {\n",
       "        vertical-align: top;\n",
       "    }\n",
       "\n",
       "    .dataframe thead th {\n",
       "        text-align: right;\n",
       "    }\n",
       "</style>\n",
       "<table border=\"1\" class=\"dataframe\">\n",
       "  <thead>\n",
       "    <tr style=\"text-align: right;\">\n",
       "      <th></th>\n",
       "      <th>prediction</th>\n",
       "      <th>itemID</th>\n",
       "      <th>title</th>\n",
       "      <th>genre</th>\n",
       "    </tr>\n",
       "  </thead>\n",
       "  <tbody>\n",
       "    <tr>\n",
       "      <th>0</th>\n",
       "      <td>4.844718</td>\n",
       "      <td>2:290898:1</td>\n",
       "      <td>Scott 75143 Scott Shop Towels, Blue (3 Rolls, ...</td>\n",
       "      <td>Industrial &amp; Scientific|Automotive</td>\n",
       "    </tr>\n",
       "    <tr>\n",
       "      <th>1</th>\n",
       "      <td>4.839595</td>\n",
       "      <td>2:484728:1</td>\n",
       "      <td>,     ( ) - Masha and the Bear, moving arms an...</td>\n",
       "      <td>Cell Phones &amp; Accessories</td>\n",
       "    </tr>\n",
       "    <tr>\n",
       "      <th>2</th>\n",
       "      <td>4.837112</td>\n",
       "      <td>2:137170:1</td>\n",
       "      <td>FW1 Cleaner With Carnauba Wax by RGS Labs (17....</td>\n",
       "      <td>Industrial &amp; Scientific|Automotive</td>\n",
       "    </tr>\n",
       "    <tr>\n",
       "      <th>3</th>\n",
       "      <td>4.824506</td>\n",
       "      <td>2:654182:1</td>\n",
       "      <td>DROK Reusable 30 Pcs Adhesive Fastening Cable ...</td>\n",
       "      <td>Industrial &amp; Scientific|Electronics|Accessorie...</td>\n",
       "    </tr>\n",
       "    <tr>\n",
       "      <th>4</th>\n",
       "      <td>4.811943</td>\n",
       "      <td>2:231554:1</td>\n",
       "      <td>E-Z Grader Grading Calculator Teacher's Aid Sc...</td>\n",
       "      <td>Industrial &amp; Scientific|Office Products|Office...</td>\n",
       "    </tr>\n",
       "    <tr>\n",
       "      <th>5</th>\n",
       "      <td>4.800133</td>\n",
       "      <td>2:700428:1</td>\n",
       "      <td>APPLE IPHONE 4 &amp; 4S AT&amp;T Verizon Sprint FAIRY ...</td>\n",
       "      <td>Cell Phones &amp; Accessories</td>\n",
       "    </tr>\n",
       "    <tr>\n",
       "      <th>6</th>\n",
       "      <td>4.797705</td>\n",
       "      <td>2:120076:1</td>\n",
       "      <td>Breeze Power-Seal Stainless Steel Hose Clamp, ...</td>\n",
       "      <td>Industrial &amp; Scientific|Automotive</td>\n",
       "    </tr>\n",
       "    <tr>\n",
       "      <th>7</th>\n",
       "      <td>4.792131</td>\n",
       "      <td>2:571597:1</td>\n",
       "      <td>IKEA BEKVAM Wooden Utility Step by Ikea (Beige)</td>\n",
       "      <td>Industrial &amp; Scientific|Office Products</td>\n",
       "    </tr>\n",
       "    <tr>\n",
       "      <th>8</th>\n",
       "      <td>4.791570</td>\n",
       "      <td>2:649346:1</td>\n",
       "      <td>Apache 99023587 3700 PSI 100' Steel Pressure W...</td>\n",
       "      <td>Industrial &amp; Scientific|Tools &amp; Home Improvement</td>\n",
       "    </tr>\n",
       "    <tr>\n",
       "      <th>9</th>\n",
       "      <td>4.790825</td>\n",
       "      <td>2:860620:1</td>\n",
       "      <td>MagicFiber Microfiber Cleaning Cloths, 30 PACK</td>\n",
       "      <td>Camera &amp; Photo|Electronics|Accessories</td>\n",
       "    </tr>\n",
       "  </tbody>\n",
       "</table>\n",
       "</div>"
      ],
      "text/plain": [
       "   prediction      itemID                                              title  \\\n",
       "0    4.844718  2:290898:1  Scott 75143 Scott Shop Towels, Blue (3 Rolls, ...   \n",
       "1    4.839595  2:484728:1  ,     ( ) - Masha and the Bear, moving arms an...   \n",
       "2    4.837112  2:137170:1  FW1 Cleaner With Carnauba Wax by RGS Labs (17....   \n",
       "3    4.824506  2:654182:1  DROK Reusable 30 Pcs Adhesive Fastening Cable ...   \n",
       "4    4.811943  2:231554:1  E-Z Grader Grading Calculator Teacher's Aid Sc...   \n",
       "5    4.800133  2:700428:1  APPLE IPHONE 4 & 4S AT&T Verizon Sprint FAIRY ...   \n",
       "6    4.797705  2:120076:1  Breeze Power-Seal Stainless Steel Hose Clamp, ...   \n",
       "7    4.792131  2:571597:1    IKEA BEKVAM Wooden Utility Step by Ikea (Beige)   \n",
       "8    4.791570  2:649346:1  Apache 99023587 3700 PSI 100' Steel Pressure W...   \n",
       "9    4.790825  2:860620:1     MagicFiber Microfiber Cleaning Cloths, 30 PACK   \n",
       "\n",
       "                                               genre  \n",
       "0                 Industrial & Scientific|Automotive  \n",
       "1                          Cell Phones & Accessories  \n",
       "2                 Industrial & Scientific|Automotive  \n",
       "3  Industrial & Scientific|Electronics|Accessorie...  \n",
       "4  Industrial & Scientific|Office Products|Office...  \n",
       "5                          Cell Phones & Accessories  \n",
       "6                 Industrial & Scientific|Automotive  \n",
       "7            Industrial & Scientific|Office Products  \n",
       "8   Industrial & Scientific|Tools & Home Improvement  \n",
       "9             Camera & Photo|Electronics|Accessories  "
      ]
     },
     "execution_count": 18,
     "metadata": {},
     "output_type": "execute_result"
    }
   ],
   "source": [
    "inp_df = pd.read_csv(test_nolabel, sep=' ', header=None)\n",
    "inp_df.columns = ['label'] + cols\n",
    "res_df = pd.read_csv(outfile, header=None)\n",
    "res_df.columns = ['prediction']\n",
    "res_df[ITEM_COL] = inp_df[ITEM_COL]\n",
    "res_df['title'] = res_df[ITEM_COL].map(lambda x: rev_item_lookup[x]['title'])\n",
    "res_df[ITEM_FEAT_COL] = res_df[ITEM_COL].map(lambda x: rev_item_lookup[x][ITEM_FEAT_COL])\n",
    "# res_df.drop(columns = [ITEM_COL], inplace=True)\n",
    "res_df.sort_values('prediction', ascending=False, inplace=True)\n",
    "res_df.reset_index(inplace=True, drop=True)\n",
    "\n",
    "res_df.to_csv(DATA_DIR + f'output_{user}.csv', index=False) # header = True\n",
    "res_df.head(10)"
   ]
  },
  {
   "cell_type": "markdown",
   "metadata": {},
   "source": [
    "## Reference\n",
    "\\[1\\] Lian, J., Zhou, X., Zhang, F., Chen, Z., Xie, X., & Sun, G. (2018). xDeepFM: Combining Explicit and Implicit Feature Interactions for Recommender Systems. Proceedings of the 24th ACM SIGKDD International Conference on Knowledge Discovery \\& Data Mining, KDD 2018, London, UK, August 19-23, 2018.<br>"
   ]
  }
 ],
 "metadata": {
  "celltoolbar": "Tags",
  "interpreter": {
   "hash": "3a9a0c422ff9f08d62211b9648017c63b0a26d2c935edc37ebb8453675d13bb5"
  },
  "kernelspec": {
   "display_name": "Python 3 (ipykernel)",
   "language": "python",
   "name": "python3"
  },
  "language_info": {
   "codemirror_mode": {
    "name": "ipython",
    "version": 3
   },
   "file_extension": ".py",
   "mimetype": "text/x-python",
   "name": "python",
   "nbconvert_exporter": "python",
   "pygments_lexer": "ipython3",
   "version": "3.9.12"
  }
 },
 "nbformat": 4,
 "nbformat_minor": 2
}
